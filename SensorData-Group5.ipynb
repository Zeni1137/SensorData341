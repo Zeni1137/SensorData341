{
 "cells": [
  {
   "cell_type": "markdown",
   "id": "7fe5b272",
   "metadata": {},
   "source": [
    "<h1 style=\"color:blue; text-align:center\"> ISAT341- Machine Learning and Data Science </h1>\n",
    "\n",
    "<h2 style=\"color:Green; text-align:center; font-family:ComicSans\"> Project: Machine Learning Confidential Sensor Data </h2>\n",
    "\n",
    "<img src=\"images/machine_learning.jpg\" width=200; height=200>\n",
    "\n",
    "\n",
    "<h2 style=\"color:Green; text-align:center; font-family:ComicSans\"> Working with real-world datasets</h2>"
   ]
  },
  {
   "cell_type": "markdown",
   "id": "9056cd84",
   "metadata": {},
   "source": [
    "# Objectives\n",
    "To demonstrate the ability to complete an end-to-end data science / machine learning project using real-world data by following and implementing the main machine learning checklist steps that lead to a solution, namely:\n",
    "\n",
    "* Frame the problem and look at the big picture.\n",
    "* Get the data.\n",
    "* Explore the data to gain insights.\n",
    "* Prepare the data to expose the underlying data patterns to Machine Learning algorithms.\n",
    "* Explore many different models and short-list the best ones.\n",
    "* Fine-tune your models and combine them into a great solution.\n",
    "* Present your solution.\n",
    "* Launch, monitor, and maintain your system\n"
   ]
  },
  {
   "cell_type": "markdown",
   "id": "6eae62b7",
   "metadata": {},
   "source": [
    "## Frame the Problem\n",
    "\n",
    "<img src=\"images/sensor_array.jpg\" width=300; height=300>"
   ]
  },
  {
   "cell_type": "markdown",
   "id": "c1e0142d",
   "metadata": {},
   "source": [
    "### Sensor Data\n",
    "\n",
    "The data source as well as the exact nature of the data is confidential. Each data instance contains 12 real-valued input attributes. Each input\n",
    "attribute represents a sensor designed to detect the presence of one of two groups of substances. As an alternative, the sensor readings may\n",
    "represent a 'false alarm'.\n",
    "\n",
    "* Substance 1 is represented by the value 'one' in the class attribute column.\n",
    "* Substance 2 is represented by the value 'two' in the class attribute column.\n",
    "* A false alarm is represented by the value 'three' in the class attribute column.\n",
    "\n",
    "The problem is framed as a **supervised learning** problem: Predict the class of a substance from sensor data using the given measurements in\n",
    "the dataset.\n"
   ]
  },
  {
   "cell_type": "code",
   "execution_count": 2,
   "id": "d35b9b8f",
   "metadata": {},
   "outputs": [],
   "source": [
    "# import packages\n",
    "%matplotlib inline\n",
    "import matplotlib.pyplot as plt\n",
    "import numpy as np\n",
    "import pandas as pd\n",
    "np.set_printoptions(precision=3, suppress=True)"
   ]
  },
  {
   "cell_type": "markdown",
   "id": "b2560900",
   "metadata": {},
   "source": [
    "## Exploratory Data Analysis"
   ]
  },
  {
   "cell_type": "markdown",
   "id": "2e70ef3e",
   "metadata": {},
   "source": [
    "### TO DO: Use Pandas to load your data into a dataframe"
   ]
  },
  {
   "cell_type": "code",
   "execution_count": 4,
   "id": "b3a76b22",
   "metadata": {},
   "outputs": [
    {
     "data": {
      "text/html": [
       "<div>\n",
       "<style scoped>\n",
       "    .dataframe tbody tr th:only-of-type {\n",
       "        vertical-align: middle;\n",
       "    }\n",
       "\n",
       "    .dataframe tbody tr th {\n",
       "        vertical-align: top;\n",
       "    }\n",
       "\n",
       "    .dataframe thead th {\n",
       "        text-align: right;\n",
       "    }\n",
       "</style>\n",
       "<table border=\"1\" class=\"dataframe\">\n",
       "  <thead>\n",
       "    <tr style=\"text-align: right;\">\n",
       "      <th></th>\n",
       "      <th>0</th>\n",
       "      <th>1</th>\n",
       "      <th>2</th>\n",
       "      <th>3</th>\n",
       "      <th>4</th>\n",
       "      <th>5</th>\n",
       "      <th>6</th>\n",
       "      <th>7</th>\n",
       "      <th>8</th>\n",
       "      <th>9</th>\n",
       "      <th>10</th>\n",
       "      <th>11</th>\n",
       "      <th>12</th>\n",
       "    </tr>\n",
       "  </thead>\n",
       "  <tbody>\n",
       "    <tr>\n",
       "      <th>0</th>\n",
       "      <td>Input 1</td>\n",
       "      <td>Input 2</td>\n",
       "      <td>Input 3</td>\n",
       "      <td>Input 4</td>\n",
       "      <td>Input 5</td>\n",
       "      <td>Input 6</td>\n",
       "      <td>Input 7</td>\n",
       "      <td>Input 8</td>\n",
       "      <td>Input 9</td>\n",
       "      <td>Input 10</td>\n",
       "      <td>Input 11</td>\n",
       "      <td>Input 12</td>\n",
       "      <td>class</td>\n",
       "    </tr>\n",
       "    <tr>\n",
       "      <th>1</th>\n",
       "      <td>1.473</td>\n",
       "      <td>2.311</td>\n",
       "      <td>3.179</td>\n",
       "      <td>2.666</td>\n",
       "      <td>0.2795</td>\n",
       "      <td>0.2771</td>\n",
       "      <td>0.2234</td>\n",
       "      <td>0.1855</td>\n",
       "      <td>0.2539</td>\n",
       "      <td>1.138</td>\n",
       "      <td>1.111</td>\n",
       "      <td>4.712</td>\n",
       "      <td>one</td>\n",
       "    </tr>\n",
       "    <tr>\n",
       "      <th>2</th>\n",
       "      <td>1.46</td>\n",
       "      <td>2.377</td>\n",
       "      <td>3.214</td>\n",
       "      <td>2.92</td>\n",
       "      <td>0.2527</td>\n",
       "      <td>0.3064</td>\n",
       "      <td>0.02563</td>\n",
       "      <td>0.1965</td>\n",
       "      <td>0.3027</td>\n",
       "      <td>1.213</td>\n",
       "      <td>1.027</td>\n",
       "      <td>5.463</td>\n",
       "      <td>one</td>\n",
       "    </tr>\n",
       "    <tr>\n",
       "      <th>3</th>\n",
       "      <td>1.552</td>\n",
       "      <td>2.164</td>\n",
       "      <td>3.064</td>\n",
       "      <td>2.745</td>\n",
       "      <td>0.282</td>\n",
       "      <td>0.21</td>\n",
       "      <td>0.1721</td>\n",
       "      <td>0.1929</td>\n",
       "      <td>0.21</td>\n",
       "      <td>1.221</td>\n",
       "      <td>1.058</td>\n",
       "      <td>5.332</td>\n",
       "      <td>one</td>\n",
       "    </tr>\n",
       "    <tr>\n",
       "      <th>4</th>\n",
       "      <td>1.605</td>\n",
       "      <td>2.228</td>\n",
       "      <td>3.149</td>\n",
       "      <td>2.834</td>\n",
       "      <td>0.2917</td>\n",
       "      <td>0.3613</td>\n",
       "      <td>0.2087</td>\n",
       "      <td>0.1294</td>\n",
       "      <td>0.2734</td>\n",
       "      <td>1.144</td>\n",
       "      <td>1.062</td>\n",
       "      <td>4.829</td>\n",
       "      <td>one</td>\n",
       "    </tr>\n",
       "  </tbody>\n",
       "</table>\n",
       "</div>"
      ],
      "text/plain": [
       "        0        1        2        3        4        5        6        7   \\\n",
       "0  Input 1  Input 2  Input 3  Input 4  Input 5  Input 6  Input 7  Input 8   \n",
       "1    1.473    2.311    3.179    2.666   0.2795   0.2771   0.2234   0.1855   \n",
       "2     1.46    2.377    3.214     2.92   0.2527   0.3064  0.02563   0.1965   \n",
       "3    1.552    2.164    3.064    2.745    0.282     0.21   0.1721   0.1929   \n",
       "4    1.605    2.228    3.149    2.834   0.2917   0.3613   0.2087   0.1294   \n",
       "\n",
       "        8         9         10        11     12  \n",
       "0  Input 9  Input 10  Input 11  Input 12  class  \n",
       "1   0.2539     1.138     1.111     4.712    one  \n",
       "2   0.3027     1.213     1.027     5.463    one  \n",
       "3     0.21     1.221     1.058     5.332    one  \n",
       "4   0.2734     1.144     1.062     4.829    one  "
      ]
     },
     "execution_count": 4,
     "metadata": {},
     "output_type": "execute_result"
    }
   ],
   "source": [
    "# Display the first ten rows after you load the data.\n",
    "df = pd.read_csv(\"data/Sensor_Data_Confidential_341Project_DataSet5.csv\", header = None)\n",
    "\n",
    "df.head()"
   ]
  },
  {
   "cell_type": "markdown",
   "id": "c30fa305",
   "metadata": {},
   "source": [
    "### TO DO: Use the dataframe describe method dataframe.describe() to display some summary statistics"
   ]
  },
  {
   "cell_type": "code",
   "execution_count": 5,
   "id": "68eaafde",
   "metadata": {},
   "outputs": [
    {
     "data": {
      "text/html": [
       "<div>\n",
       "<style scoped>\n",
       "    .dataframe tbody tr th:only-of-type {\n",
       "        vertical-align: middle;\n",
       "    }\n",
       "\n",
       "    .dataframe tbody tr th {\n",
       "        vertical-align: top;\n",
       "    }\n",
       "\n",
       "    .dataframe thead th {\n",
       "        text-align: right;\n",
       "    }\n",
       "</style>\n",
       "<table border=\"1\" class=\"dataframe\">\n",
       "  <thead>\n",
       "    <tr style=\"text-align: right;\">\n",
       "      <th></th>\n",
       "      <th>0</th>\n",
       "      <th>1</th>\n",
       "      <th>2</th>\n",
       "      <th>3</th>\n",
       "      <th>4</th>\n",
       "      <th>5</th>\n",
       "      <th>6</th>\n",
       "      <th>7</th>\n",
       "      <th>8</th>\n",
       "      <th>9</th>\n",
       "      <th>10</th>\n",
       "      <th>11</th>\n",
       "      <th>12</th>\n",
       "    </tr>\n",
       "  </thead>\n",
       "  <tbody>\n",
       "    <tr>\n",
       "      <th>count</th>\n",
       "      <td>2065</td>\n",
       "      <td>2065</td>\n",
       "      <td>2065</td>\n",
       "      <td>2065</td>\n",
       "      <td>2065</td>\n",
       "      <td>2065</td>\n",
       "      <td>2065</td>\n",
       "      <td>2065</td>\n",
       "      <td>2065</td>\n",
       "      <td>2065</td>\n",
       "      <td>2065</td>\n",
       "      <td>2065</td>\n",
       "      <td>2065</td>\n",
       "    </tr>\n",
       "    <tr>\n",
       "      <th>unique</th>\n",
       "      <td>1310</td>\n",
       "      <td>1376</td>\n",
       "      <td>1101</td>\n",
       "      <td>1307</td>\n",
       "      <td>1170</td>\n",
       "      <td>1353</td>\n",
       "      <td>984</td>\n",
       "      <td>688</td>\n",
       "      <td>1121</td>\n",
       "      <td>1230</td>\n",
       "      <td>1019</td>\n",
       "      <td>1042</td>\n",
       "      <td>4</td>\n",
       "    </tr>\n",
       "    <tr>\n",
       "      <th>top</th>\n",
       "      <td>-9999</td>\n",
       "      <td>-9999</td>\n",
       "      <td>-9999</td>\n",
       "      <td>-9999</td>\n",
       "      <td>-9999</td>\n",
       "      <td>-9999</td>\n",
       "      <td>-9999</td>\n",
       "      <td>-9999</td>\n",
       "      <td>-9999</td>\n",
       "      <td>-9999</td>\n",
       "      <td>-9999</td>\n",
       "      <td>20</td>\n",
       "      <td>one</td>\n",
       "    </tr>\n",
       "    <tr>\n",
       "      <th>freq</th>\n",
       "      <td>22</td>\n",
       "      <td>23</td>\n",
       "      <td>24</td>\n",
       "      <td>15</td>\n",
       "      <td>26</td>\n",
       "      <td>22</td>\n",
       "      <td>17</td>\n",
       "      <td>26</td>\n",
       "      <td>21</td>\n",
       "      <td>16</td>\n",
       "      <td>18</td>\n",
       "      <td>61</td>\n",
       "      <td>799</td>\n",
       "    </tr>\n",
       "  </tbody>\n",
       "</table>\n",
       "</div>"
      ],
      "text/plain": [
       "           0      1      2      3      4      5      6      7      8      9   \\\n",
       "count    2065   2065   2065   2065   2065   2065   2065   2065   2065   2065   \n",
       "unique   1310   1376   1101   1307   1170   1353    984    688   1121   1230   \n",
       "top     -9999  -9999  -9999  -9999  -9999  -9999  -9999  -9999  -9999  -9999   \n",
       "freq       22     23     24     15     26     22     17     26     21     16   \n",
       "\n",
       "           10    11    12  \n",
       "count    2065  2065  2065  \n",
       "unique   1019  1042     4  \n",
       "top     -9999    20   one  \n",
       "freq       18    61   799  "
      ]
     },
     "execution_count": 5,
     "metadata": {},
     "output_type": "execute_result"
    }
   ],
   "source": [
    "df.describe()"
   ]
  },
  {
   "cell_type": "markdown",
   "id": "293c14c9",
   "metadata": {},
   "source": [
    "## Data Cleansing"
   ]
  },
  {
   "cell_type": "markdown",
   "id": "f16d8c59",
   "metadata": {},
   "source": [
    "### TO DO: Display the shape of your dataframe data in the cell below"
   ]
  },
  {
   "cell_type": "code",
   "execution_count": 7,
   "id": "c2ac6ced",
   "metadata": {},
   "outputs": [
    {
     "data": {
      "text/plain": [
       "(2065, 13)"
      ]
     },
     "execution_count": 7,
     "metadata": {},
     "output_type": "execute_result"
    }
   ],
   "source": [
    "df.shape"
   ]
  },
  {
   "cell_type": "markdown",
   "id": "6b126f5d",
   "metadata": {},
   "source": [
    "### TO DO: Use Pandas dataframe to find bad or missing data."
   ]
  },
  {
   "cell_type": "code",
   "execution_count": 32,
   "id": "4b9838fb",
   "metadata": {},
   "outputs": [
    {
     "data": {
      "text/html": [
       "<div>\n",
       "<style scoped>\n",
       "    .dataframe tbody tr th:only-of-type {\n",
       "        vertical-align: middle;\n",
       "    }\n",
       "\n",
       "    .dataframe tbody tr th {\n",
       "        vertical-align: top;\n",
       "    }\n",
       "\n",
       "    .dataframe thead th {\n",
       "        text-align: right;\n",
       "    }\n",
       "</style>\n",
       "<table border=\"1\" class=\"dataframe\">\n",
       "  <thead>\n",
       "    <tr style=\"text-align: right;\">\n",
       "      <th></th>\n",
       "      <th>0</th>\n",
       "      <th>1</th>\n",
       "      <th>2</th>\n",
       "      <th>3</th>\n",
       "      <th>4</th>\n",
       "      <th>5</th>\n",
       "      <th>6</th>\n",
       "      <th>7</th>\n",
       "      <th>8</th>\n",
       "      <th>9</th>\n",
       "      <th>10</th>\n",
       "      <th>11</th>\n",
       "      <th>12</th>\n",
       "    </tr>\n",
       "  </thead>\n",
       "  <tbody>\n",
       "    <tr>\n",
       "      <th>0</th>\n",
       "      <td>Input 1</td>\n",
       "      <td>Input 2</td>\n",
       "      <td>Input 3</td>\n",
       "      <td>Input 4</td>\n",
       "      <td>Input 5</td>\n",
       "      <td>Input 6</td>\n",
       "      <td>Input 7</td>\n",
       "      <td>Input 8</td>\n",
       "      <td>Input 9</td>\n",
       "      <td>Input 10</td>\n",
       "      <td>Input 11</td>\n",
       "      <td>Input 12</td>\n",
       "      <td>class</td>\n",
       "    </tr>\n",
       "    <tr>\n",
       "      <th>1</th>\n",
       "      <td>1.473</td>\n",
       "      <td>2.311</td>\n",
       "      <td>3.179</td>\n",
       "      <td>2.666</td>\n",
       "      <td>0.2795</td>\n",
       "      <td>0.2771</td>\n",
       "      <td>0.2234</td>\n",
       "      <td>0.1855</td>\n",
       "      <td>0.2539</td>\n",
       "      <td>1.138</td>\n",
       "      <td>1.111</td>\n",
       "      <td>4.712</td>\n",
       "      <td>one</td>\n",
       "    </tr>\n",
       "    <tr>\n",
       "      <th>2</th>\n",
       "      <td>1.46</td>\n",
       "      <td>2.377</td>\n",
       "      <td>3.214</td>\n",
       "      <td>2.92</td>\n",
       "      <td>0.2527</td>\n",
       "      <td>0.3064</td>\n",
       "      <td>0.02563</td>\n",
       "      <td>0.1965</td>\n",
       "      <td>0.3027</td>\n",
       "      <td>1.213</td>\n",
       "      <td>1.027</td>\n",
       "      <td>5.463</td>\n",
       "      <td>one</td>\n",
       "    </tr>\n",
       "    <tr>\n",
       "      <th>3</th>\n",
       "      <td>1.552</td>\n",
       "      <td>2.164</td>\n",
       "      <td>3.064</td>\n",
       "      <td>2.745</td>\n",
       "      <td>0.282</td>\n",
       "      <td>0.21</td>\n",
       "      <td>0.1721</td>\n",
       "      <td>0.1929</td>\n",
       "      <td>0.21</td>\n",
       "      <td>1.221</td>\n",
       "      <td>1.058</td>\n",
       "      <td>5.332</td>\n",
       "      <td>one</td>\n",
       "    </tr>\n",
       "    <tr>\n",
       "      <th>4</th>\n",
       "      <td>1.605</td>\n",
       "      <td>2.228</td>\n",
       "      <td>3.149</td>\n",
       "      <td>2.834</td>\n",
       "      <td>0.2917</td>\n",
       "      <td>0.3613</td>\n",
       "      <td>0.2087</td>\n",
       "      <td>0.1294</td>\n",
       "      <td>0.2734</td>\n",
       "      <td>1.144</td>\n",
       "      <td>1.062</td>\n",
       "      <td>4.829</td>\n",
       "      <td>one</td>\n",
       "    </tr>\n",
       "    <tr>\n",
       "      <th>5</th>\n",
       "      <td>1.534</td>\n",
       "      <td>2.114</td>\n",
       "      <td>3.309</td>\n",
       "      <td>2.976</td>\n",
       "      <td>0.21</td>\n",
       "      <td>0.2502</td>\n",
       "      <td>0.2258</td>\n",
       "      <td>0.177</td>\n",
       "      <td>0.2039</td>\n",
       "      <td>1.254</td>\n",
       "      <td>1.112</td>\n",
       "      <td>5.734</td>\n",
       "      <td>one</td>\n",
       "    </tr>\n",
       "    <tr>\n",
       "      <th>6</th>\n",
       "      <td>1.796</td>\n",
       "      <td>2.262</td>\n",
       "      <td>3.18</td>\n",
       "      <td>2.888</td>\n",
       "      <td>0.2966</td>\n",
       "      <td>0.1477</td>\n",
       "      <td>0.1624</td>\n",
       "      <td>0.282</td>\n",
       "      <td>-9999</td>\n",
       "      <td>1.172</td>\n",
       "      <td>1.03</td>\n",
       "      <td>4.861</td>\n",
       "      <td>one</td>\n",
       "    </tr>\n",
       "    <tr>\n",
       "      <th>7</th>\n",
       "      <td>1.566</td>\n",
       "      <td>2.323</td>\n",
       "      <td>3.469</td>\n",
       "      <td>2.711</td>\n",
       "      <td>0.2417</td>\n",
       "      <td>0.05371</td>\n",
       "      <td>0.2112</td>\n",
       "      <td>-0.02686</td>\n",
       "      <td>0.2197</td>\n",
       "      <td>1.158</td>\n",
       "      <td>0.9924</td>\n",
       "      <td>4.78</td>\n",
       "      <td>one</td>\n",
       "    </tr>\n",
       "    <tr>\n",
       "      <th>8</th>\n",
       "      <td>1.425</td>\n",
       "      <td>2.152</td>\n",
       "      <td>3.287</td>\n",
       "      <td>2.781</td>\n",
       "      <td>0.2991</td>\n",
       "      <td>0.2075</td>\n",
       "      <td>0.1038</td>\n",
       "      <td>0.1147</td>\n",
       "      <td>0.2698</td>\n",
       "      <td>1.271</td>\n",
       "      <td>1.115</td>\n",
       "      <td>5.662</td>\n",
       "      <td>one</td>\n",
       "    </tr>\n",
       "    <tr>\n",
       "      <th>9</th>\n",
       "      <td>1.595</td>\n",
       "      <td>2.271</td>\n",
       "      <td>3.323</td>\n",
       "      <td>2.743</td>\n",
       "      <td>0.1733</td>\n",
       "      <td>0.1965</td>\n",
       "      <td>0.1685</td>\n",
       "      <td>0.05859</td>\n",
       "      <td>0.2051</td>\n",
       "      <td>1.29</td>\n",
       "      <td>1.033</td>\n",
       "      <td>5.145</td>\n",
       "      <td>one</td>\n",
       "    </tr>\n",
       "  </tbody>\n",
       "</table>\n",
       "</div>"
      ],
      "text/plain": [
       "        0        1        2        3        4        5        6         7   \\\n",
       "0  Input 1  Input 2  Input 3  Input 4  Input 5  Input 6  Input 7   Input 8   \n",
       "1    1.473    2.311    3.179    2.666   0.2795   0.2771   0.2234    0.1855   \n",
       "2     1.46    2.377    3.214     2.92   0.2527   0.3064  0.02563    0.1965   \n",
       "3    1.552    2.164    3.064    2.745    0.282     0.21   0.1721    0.1929   \n",
       "4    1.605    2.228    3.149    2.834   0.2917   0.3613   0.2087    0.1294   \n",
       "5    1.534    2.114    3.309    2.976     0.21   0.2502   0.2258     0.177   \n",
       "6    1.796    2.262     3.18    2.888   0.2966   0.1477   0.1624     0.282   \n",
       "7    1.566    2.323    3.469    2.711   0.2417  0.05371   0.2112  -0.02686   \n",
       "8    1.425    2.152    3.287    2.781   0.2991   0.2075   0.1038    0.1147   \n",
       "9    1.595    2.271    3.323    2.743   0.1733   0.1965   0.1685   0.05859   \n",
       "\n",
       "        8         9         10        11     12  \n",
       "0  Input 9  Input 10  Input 11  Input 12  class  \n",
       "1   0.2539     1.138     1.111     4.712    one  \n",
       "2   0.3027     1.213     1.027     5.463    one  \n",
       "3     0.21     1.221     1.058     5.332    one  \n",
       "4   0.2734     1.144     1.062     4.829    one  \n",
       "5   0.2039     1.254     1.112     5.734    one  \n",
       "6    -9999     1.172      1.03     4.861    one  \n",
       "7   0.2197     1.158    0.9924      4.78    one  \n",
       "8   0.2698     1.271     1.115     5.662    one  \n",
       "9   0.2051      1.29     1.033     5.145    one  "
      ]
     },
     "execution_count": 32,
     "metadata": {},
     "output_type": "execute_result"
    }
   ],
   "source": [
    "#Enter your code in the cell below to implement the drop, replace and display.\n",
    "df = df.replace(-9999.0, np.nan)\n",
    "df = df.dropna()\n",
    "df.head(10)"
   ]
  },
  {
   "cell_type": "code",
   "execution_count": 33,
   "id": "2f4ccc17",
   "metadata": {},
   "outputs": [
    {
     "data": {
      "text/plain": [
       "(2065, 13)"
      ]
     },
     "execution_count": 33,
     "metadata": {},
     "output_type": "execute_result"
    }
   ],
   "source": [
    "# shape of data in dataframe after cleansing\n",
    "df.shape"
   ]
  },
  {
   "cell_type": "markdown",
   "id": "e232cd9e",
   "metadata": {},
   "source": [
    "### TO DO: Use pandas correlation method to find the two features (inputs) with the highest correlation"
   ]
  },
  {
   "cell_type": "markdown",
   "id": "e70a804d",
   "metadata": {},
   "source": [
    "<h1 style=\"color:Red; text-align:center; font-family:ComicSans\"> FLAG FOR RAL. THERES SO MANY OF THEM HELP </h1>\n"
   ]
  },
  {
   "cell_type": "code",
   "execution_count": 34,
   "id": "25e898ae",
   "metadata": {},
   "outputs": [
    {
     "data": {
      "text/plain": [
       "<bound method DataFrame.corr of            0        1        2        3        4        5        6        7   \\\n",
       "0     Input 1  Input 2  Input 3  Input 4  Input 5  Input 6  Input 7  Input 8   \n",
       "1       1.473    2.311    3.179    2.666   0.2795   0.2771   0.2234   0.1855   \n",
       "2        1.46    2.377    3.214     2.92   0.2527   0.3064  0.02563   0.1965   \n",
       "3       1.552    2.164    3.064    2.745    0.282     0.21   0.1721   0.1929   \n",
       "4       1.605    2.228    3.149    2.834   0.2917   0.3613   0.2087   0.1294   \n",
       "...       ...      ...      ...      ...      ...      ...      ...      ...   \n",
       "2060    3.682    1.301    4.939    4.453   0.4895   0.7922   0.2319  0.05005   \n",
       "2061    3.412    1.293    4.949    4.199   0.4578   0.9521   0.2136   0.2307   \n",
       "2062     3.64    1.284    5.111     4.46   0.5786    0.802   0.2698   0.3174   \n",
       "2063    3.746    1.261    5.049    4.885   0.5835    1.147   0.3235   0.2307   \n",
       "2064    3.959    1.108    5.422    4.835   0.5579    1.323   0.5151     0.21   \n",
       "\n",
       "           8         9         10        11     12  \n",
       "0     Input 9  Input 10  Input 11  Input 12  class  \n",
       "1      0.2539     1.138     1.111     4.712    one  \n",
       "2      0.3027     1.213     1.027     5.463    one  \n",
       "3        0.21     1.221     1.058     5.332    one  \n",
       "4      0.2734     1.144     1.062     4.829    one  \n",
       "...       ...       ...       ...       ...    ...  \n",
       "2060   0.3687     1.478     1.174     5.125    two  \n",
       "2061   0.4578     1.526     1.167     5.433    two  \n",
       "2062   0.4309      1.46     1.118     4.867    two  \n",
       "2063   0.4614     1.482     1.128     5.627    two  \n",
       "2064   0.5737     1.595     1.244     5.623    two  \n",
       "\n",
       "[2065 rows x 13 columns]>"
      ]
     },
     "execution_count": 34,
     "metadata": {},
     "output_type": "execute_result"
    }
   ],
   "source": [
    "#Enter your answers in the cell immediately following the output correlation table\n",
    "df.corr"
   ]
  },
  {
   "cell_type": "markdown",
   "id": "bd0b3ab3",
   "metadata": {},
   "source": [
    "## Data Visualization"
   ]
  },
  {
   "cell_type": "markdown",
   "id": "0248b59e",
   "metadata": {},
   "source": [
    "### TO DO: Plot bar charts using pandas dataframe (plot the mean value of the sensors)"
   ]
  },
  {
   "cell_type": "code",
   "execution_count": 36,
   "id": "b235dc1d",
   "metadata": {},
   "outputs": [
    {
     "name": "stdout",
     "output_type": "stream",
     "text": [
      "The mean values are: \n",
      "Series([], dtype: float64)\n"
     ]
    },
    {
     "ename": "ValueError",
     "evalue": "shape mismatch: objects cannot be broadcast to a single shape.  Mismatch is between arg 0 with shape (12,) and arg 1 with shape (0,).",
     "output_type": "error",
     "traceback": [
      "\u001b[1;31m---------------------------------------------------------------------------\u001b[0m",
      "\u001b[1;31mValueError\u001b[0m                                Traceback (most recent call last)",
      "Cell \u001b[1;32mIn[36], line 11\u001b[0m\n\u001b[0;32m      8\u001b[0m mean_values \u001b[38;5;241m=\u001b[39m df[:]\u001b[38;5;241m.\u001b[39mmean(numeric_only\u001b[38;5;241m=\u001b[39m\u001b[38;5;28;01mTrue\u001b[39;00m)\n\u001b[0;32m     10\u001b[0m plt\u001b[38;5;241m.\u001b[39mfigure(figsize\u001b[38;5;241m=\u001b[39m(\u001b[38;5;241m13\u001b[39m, \u001b[38;5;241m5\u001b[39m))\n\u001b[1;32m---> 11\u001b[0m plt\u001b[38;5;241m.\u001b[39mbar(columns, mean_values)\n\u001b[0;32m     12\u001b[0m plt\u001b[38;5;241m.\u001b[39mshow()\n",
      "File \u001b[1;32m~\\anaconda3\\Lib\\site-packages\\matplotlib\\pyplot.py:2439\u001b[0m, in \u001b[0;36mbar\u001b[1;34m(x, height, width, bottom, align, data, **kwargs)\u001b[0m\n\u001b[0;32m   2435\u001b[0m \u001b[38;5;129m@_copy_docstring_and_deprecators\u001b[39m(Axes\u001b[38;5;241m.\u001b[39mbar)\n\u001b[0;32m   2436\u001b[0m \u001b[38;5;28;01mdef\u001b[39;00m \u001b[38;5;21mbar\u001b[39m(\n\u001b[0;32m   2437\u001b[0m         x, height, width\u001b[38;5;241m=\u001b[39m\u001b[38;5;241m0.8\u001b[39m, bottom\u001b[38;5;241m=\u001b[39m\u001b[38;5;28;01mNone\u001b[39;00m, \u001b[38;5;241m*\u001b[39m, align\u001b[38;5;241m=\u001b[39m\u001b[38;5;124m'\u001b[39m\u001b[38;5;124mcenter\u001b[39m\u001b[38;5;124m'\u001b[39m,\n\u001b[0;32m   2438\u001b[0m         data\u001b[38;5;241m=\u001b[39m\u001b[38;5;28;01mNone\u001b[39;00m, \u001b[38;5;241m*\u001b[39m\u001b[38;5;241m*\u001b[39mkwargs):\n\u001b[1;32m-> 2439\u001b[0m     \u001b[38;5;28;01mreturn\u001b[39;00m gca()\u001b[38;5;241m.\u001b[39mbar(\n\u001b[0;32m   2440\u001b[0m         x, height, width\u001b[38;5;241m=\u001b[39mwidth, bottom\u001b[38;5;241m=\u001b[39mbottom, align\u001b[38;5;241m=\u001b[39malign,\n\u001b[0;32m   2441\u001b[0m         \u001b[38;5;241m*\u001b[39m\u001b[38;5;241m*\u001b[39m({\u001b[38;5;124m\"\u001b[39m\u001b[38;5;124mdata\u001b[39m\u001b[38;5;124m\"\u001b[39m: data} \u001b[38;5;28;01mif\u001b[39;00m data \u001b[38;5;129;01mis\u001b[39;00m \u001b[38;5;129;01mnot\u001b[39;00m \u001b[38;5;28;01mNone\u001b[39;00m \u001b[38;5;28;01melse\u001b[39;00m {}), \u001b[38;5;241m*\u001b[39m\u001b[38;5;241m*\u001b[39mkwargs)\n",
      "File \u001b[1;32m~\\anaconda3\\Lib\\site-packages\\matplotlib\\__init__.py:1446\u001b[0m, in \u001b[0;36m_preprocess_data.<locals>.inner\u001b[1;34m(ax, data, *args, **kwargs)\u001b[0m\n\u001b[0;32m   1443\u001b[0m \u001b[38;5;129m@functools\u001b[39m\u001b[38;5;241m.\u001b[39mwraps(func)\n\u001b[0;32m   1444\u001b[0m \u001b[38;5;28;01mdef\u001b[39;00m \u001b[38;5;21minner\u001b[39m(ax, \u001b[38;5;241m*\u001b[39margs, data\u001b[38;5;241m=\u001b[39m\u001b[38;5;28;01mNone\u001b[39;00m, \u001b[38;5;241m*\u001b[39m\u001b[38;5;241m*\u001b[39mkwargs):\n\u001b[0;32m   1445\u001b[0m     \u001b[38;5;28;01mif\u001b[39;00m data \u001b[38;5;129;01mis\u001b[39;00m \u001b[38;5;28;01mNone\u001b[39;00m:\n\u001b[1;32m-> 1446\u001b[0m         \u001b[38;5;28;01mreturn\u001b[39;00m func(ax, \u001b[38;5;241m*\u001b[39m\u001b[38;5;28mmap\u001b[39m(sanitize_sequence, args), \u001b[38;5;241m*\u001b[39m\u001b[38;5;241m*\u001b[39mkwargs)\n\u001b[0;32m   1448\u001b[0m     bound \u001b[38;5;241m=\u001b[39m new_sig\u001b[38;5;241m.\u001b[39mbind(ax, \u001b[38;5;241m*\u001b[39margs, \u001b[38;5;241m*\u001b[39m\u001b[38;5;241m*\u001b[39mkwargs)\n\u001b[0;32m   1449\u001b[0m     auto_label \u001b[38;5;241m=\u001b[39m (bound\u001b[38;5;241m.\u001b[39marguments\u001b[38;5;241m.\u001b[39mget(label_namer)\n\u001b[0;32m   1450\u001b[0m                   \u001b[38;5;129;01mor\u001b[39;00m bound\u001b[38;5;241m.\u001b[39mkwargs\u001b[38;5;241m.\u001b[39mget(label_namer))\n",
      "File \u001b[1;32m~\\anaconda3\\Lib\\site-packages\\matplotlib\\axes\\_axes.py:2409\u001b[0m, in \u001b[0;36mAxes.bar\u001b[1;34m(self, x, height, width, bottom, align, **kwargs)\u001b[0m\n\u001b[0;32m   2406\u001b[0m     \u001b[38;5;28;01mif\u001b[39;00m yerr \u001b[38;5;129;01mis\u001b[39;00m \u001b[38;5;129;01mnot\u001b[39;00m \u001b[38;5;28;01mNone\u001b[39;00m:\n\u001b[0;32m   2407\u001b[0m         yerr \u001b[38;5;241m=\u001b[39m \u001b[38;5;28mself\u001b[39m\u001b[38;5;241m.\u001b[39m_convert_dx(yerr, y0, y, \u001b[38;5;28mself\u001b[39m\u001b[38;5;241m.\u001b[39mconvert_yunits)\n\u001b[1;32m-> 2409\u001b[0m x, height, width, y, linewidth, hatch \u001b[38;5;241m=\u001b[39m np\u001b[38;5;241m.\u001b[39mbroadcast_arrays(\n\u001b[0;32m   2410\u001b[0m     \u001b[38;5;66;03m# Make args iterable too.\u001b[39;00m\n\u001b[0;32m   2411\u001b[0m     np\u001b[38;5;241m.\u001b[39matleast_1d(x), height, width, y, linewidth, hatch)\n\u001b[0;32m   2413\u001b[0m \u001b[38;5;66;03m# Now that units have been converted, set the tick locations.\u001b[39;00m\n\u001b[0;32m   2414\u001b[0m \u001b[38;5;28;01mif\u001b[39;00m orientation \u001b[38;5;241m==\u001b[39m \u001b[38;5;124m'\u001b[39m\u001b[38;5;124mvertical\u001b[39m\u001b[38;5;124m'\u001b[39m:\n",
      "File \u001b[1;32m<__array_function__ internals>:200\u001b[0m, in \u001b[0;36mbroadcast_arrays\u001b[1;34m(*args, **kwargs)\u001b[0m\n",
      "File \u001b[1;32m~\\anaconda3\\Lib\\site-packages\\numpy\\lib\\stride_tricks.py:540\u001b[0m, in \u001b[0;36mbroadcast_arrays\u001b[1;34m(subok, *args)\u001b[0m\n\u001b[0;32m    533\u001b[0m \u001b[38;5;66;03m# nditer is not used here to avoid the limit of 32 arrays.\u001b[39;00m\n\u001b[0;32m    534\u001b[0m \u001b[38;5;66;03m# Otherwise, something like the following one-liner would suffice:\u001b[39;00m\n\u001b[0;32m    535\u001b[0m \u001b[38;5;66;03m# return np.nditer(args, flags=['multi_index', 'zerosize_ok'],\u001b[39;00m\n\u001b[0;32m    536\u001b[0m \u001b[38;5;66;03m#                  order='C').itviews\u001b[39;00m\n\u001b[0;32m    538\u001b[0m args \u001b[38;5;241m=\u001b[39m [np\u001b[38;5;241m.\u001b[39marray(_m, copy\u001b[38;5;241m=\u001b[39m\u001b[38;5;28;01mFalse\u001b[39;00m, subok\u001b[38;5;241m=\u001b[39msubok) \u001b[38;5;28;01mfor\u001b[39;00m _m \u001b[38;5;129;01min\u001b[39;00m args]\n\u001b[1;32m--> 540\u001b[0m shape \u001b[38;5;241m=\u001b[39m _broadcast_shape(\u001b[38;5;241m*\u001b[39margs)\n\u001b[0;32m    542\u001b[0m \u001b[38;5;28;01mif\u001b[39;00m \u001b[38;5;28mall\u001b[39m(array\u001b[38;5;241m.\u001b[39mshape \u001b[38;5;241m==\u001b[39m shape \u001b[38;5;28;01mfor\u001b[39;00m array \u001b[38;5;129;01min\u001b[39;00m args):\n\u001b[0;32m    543\u001b[0m     \u001b[38;5;66;03m# Common case where nothing needs to be broadcasted.\u001b[39;00m\n\u001b[0;32m    544\u001b[0m     \u001b[38;5;28;01mreturn\u001b[39;00m args\n",
      "File \u001b[1;32m~\\anaconda3\\Lib\\site-packages\\numpy\\lib\\stride_tricks.py:422\u001b[0m, in \u001b[0;36m_broadcast_shape\u001b[1;34m(*args)\u001b[0m\n\u001b[0;32m    417\u001b[0m \u001b[38;5;250m\u001b[39m\u001b[38;5;124;03m\"\"\"Returns the shape of the arrays that would result from broadcasting the\u001b[39;00m\n\u001b[0;32m    418\u001b[0m \u001b[38;5;124;03msupplied arrays against each other.\u001b[39;00m\n\u001b[0;32m    419\u001b[0m \u001b[38;5;124;03m\"\"\"\u001b[39;00m\n\u001b[0;32m    420\u001b[0m \u001b[38;5;66;03m# use the old-iterator because np.nditer does not handle size 0 arrays\u001b[39;00m\n\u001b[0;32m    421\u001b[0m \u001b[38;5;66;03m# consistently\u001b[39;00m\n\u001b[1;32m--> 422\u001b[0m b \u001b[38;5;241m=\u001b[39m np\u001b[38;5;241m.\u001b[39mbroadcast(\u001b[38;5;241m*\u001b[39margs[:\u001b[38;5;241m32\u001b[39m])\n\u001b[0;32m    423\u001b[0m \u001b[38;5;66;03m# unfortunately, it cannot handle 32 or more arguments directly\u001b[39;00m\n\u001b[0;32m    424\u001b[0m \u001b[38;5;28;01mfor\u001b[39;00m pos \u001b[38;5;129;01min\u001b[39;00m \u001b[38;5;28mrange\u001b[39m(\u001b[38;5;241m32\u001b[39m, \u001b[38;5;28mlen\u001b[39m(args), \u001b[38;5;241m31\u001b[39m):\n\u001b[0;32m    425\u001b[0m     \u001b[38;5;66;03m# ironically, np.broadcast does not properly handle np.broadcast\u001b[39;00m\n\u001b[0;32m    426\u001b[0m     \u001b[38;5;66;03m# objects (it treats them as scalars)\u001b[39;00m\n\u001b[0;32m    427\u001b[0m     \u001b[38;5;66;03m# use broadcasting to avoid allocating the full array\u001b[39;00m\n",
      "\u001b[1;31mValueError\u001b[0m: shape mismatch: objects cannot be broadcast to a single shape.  Mismatch is between arg 0 with shape (12,) and arg 1 with shape (0,)."
     ]
    },
    {
     "data": {
      "image/png": "[encoded data removed]",
      "text/plain": [
       "<Figure size 1300x500 with 1 Axes>"
      ]
     },
     "metadata": {},
     "output_type": "display_data"
    }
   ],
   "source": [
    "columns = df.columns.tolist()\n",
    "\n",
    "features = len(columns)-1\n",
    "columns = columns[:features]\n",
    "\n",
    "print('The mean values are: \\n{}'.format(df.mean(numeric_only=True)))\n",
    "\n",
    "mean_values = df[:].mean(numeric_only=True)\n",
    "\n",
    "plt.figure(figsize=(12, 5))\n",
    "plt.bar(columns, mean_values)\n",
    "plt.show()"
   ]
  },
  {
   "cell_type": "markdown",
   "id": "f3e67e15",
   "metadata": {},
   "source": [
    "## Data Preprocessing"
   ]
  },
  {
   "cell_type": "markdown",
   "id": "162ccfd8",
   "metadata": {},
   "source": [
    "### TO DO: Create Feature Matrix and Target Vector"
   ]
  },
  {
   "cell_type": "code",
   "execution_count": 12,
   "id": "b4001327",
   "metadata": {},
   "outputs": [],
   "source": [
    "# \"Features\" are also known as predictors, inputs, or attributes. The \"response\" is also known as the target, label, or output."
   ]
  },
  {
   "cell_type": "markdown",
   "id": "d4b677ab",
   "metadata": {},
   "source": [
    "### TO DO: Convert the features dataframe to a numpy array"
   ]
  },
  {
   "cell_type": "code",
   "execution_count": 13,
   "id": "d767dc9e",
   "metadata": {},
   "outputs": [],
   "source": [
    "#"
   ]
  },
  {
   "cell_type": "markdown",
   "id": "dcff8aff",
   "metadata": {},
   "source": [
    "### TO DO: Label Encoding"
   ]
  },
  {
   "cell_type": "code",
   "execution_count": 17,
   "id": "5d89545d",
   "metadata": {},
   "outputs": [],
   "source": [
    "# Transform the categorical labels into integers using the scikit-learn label encoder"
   ]
  },
  {
   "cell_type": "markdown",
   "id": "ca46d19d",
   "metadata": {},
   "source": [
    "### TO DO: Split the data into Training and Testing Sets"
   ]
  },
  {
   "cell_type": "code",
   "execution_count": 18,
   "id": "3d1e674c",
   "metadata": {},
   "outputs": [],
   "source": [
    "#Use a 80% / 20% train/test split for this project.\n",
    "#NOTE: You must use the encoded class labels in this part"
   ]
  },
  {
   "cell_type": "markdown",
   "id": "47b66560",
   "metadata": {},
   "source": [
    "### TO DO:Look at the shape of the data (rows and columns) after splitting it into training and testing sets"
   ]
  },
  {
   "cell_type": "code",
   "execution_count": 19,
   "id": "49df05b2",
   "metadata": {},
   "outputs": [],
   "source": [
    "# Enter your code in TWO cells"
   ]
  },
  {
   "cell_type": "code",
   "execution_count": 20,
   "id": "1e7141ea",
   "metadata": {},
   "outputs": [],
   "source": [
    "#"
   ]
  },
  {
   "cell_type": "markdown",
   "id": "e61cce8c",
   "metadata": {},
   "source": [
    "## Scale The Data"
   ]
  },
  {
   "cell_type": "markdown",
   "id": "78e9ac01",
   "metadata": {},
   "source": [
    "### TO DO: Let's use the StandarScaler from Scikit-learn to transform (scale) our feature"
   ]
  },
  {
   "cell_type": "code",
   "execution_count": 23,
   "id": "caac9192",
   "metadata": {},
   "outputs": [],
   "source": [
    "# Standardizing the Features\n",
    "\n",
    "\n",
    "# from this point forward you must use the scaled training and testing data"
   ]
  },
  {
   "cell_type": "markdown",
   "id": "bcd2108c",
   "metadata": {},
   "source": [
    "## Model Building"
   ]
  },
  {
   "cell_type": "markdown",
   "id": "77b468cd",
   "metadata": {},
   "source": [
    "Algorithms being used: \n",
    "1. K-Nearest Neighbor (with K=10, K=50, K=200)\n",
    "2. Logistic Regression\n",
    "3. Linear Support Vector Classifier\n"
   ]
  },
  {
   "cell_type": "markdown",
   "id": "f72f9b88",
   "metadata": {},
   "source": [
    "## Build a KNN Classification Model for K = 10, 50 and 200"
   ]
  },
  {
   "cell_type": "markdown",
   "id": "60bca5b9",
   "metadata": {},
   "source": [
    "### TO DO: In the sections below you should build and train the actual machine learning model."
   ]
  },
  {
   "cell_type": "code",
   "execution_count": 25,
   "id": "bb2f28b5",
   "metadata": {},
   "outputs": [],
   "source": [
    "# In the cell below: enter the code to import, instantiate, fit, \n",
    "#predict and test the model's performance (accuracy) for the K-Nearest\n",
    "#Neighbor Model in SciKit-Learn for K= 10, 50 and 200. \n",
    "#!!! This should be completed in ONE cell using a loop, etc. !!!!"
   ]
  },
  {
   "cell_type": "markdown",
   "id": "26700cf7",
   "metadata": {},
   "source": [
    "### TO DO:class-membership probability index = 10 "
   ]
  },
  {
   "cell_type": "code",
   "execution_count": 28,
   "id": "2f18e4cd",
   "metadata": {},
   "outputs": [],
   "source": [
    "#Predict the class membership probability by using the a row with index = 10 from the X_test_std data. \n",
    "\n",
    "#Make sure your print statement uses a complete sentence and be sure to compare your prediction with the correct answer using the corresponding row from the test set labels, y_test"
   ]
  },
  {
   "cell_type": "markdown",
   "id": "a5541c5b",
   "metadata": {},
   "source": [
    "### TO DO:class-membership probability index = 125"
   ]
  },
  {
   "cell_type": "code",
   "execution_count": 29,
   "id": "c74d7c92",
   "metadata": {},
   "outputs": [],
   "source": [
    "# Same steps as above"
   ]
  },
  {
   "cell_type": "markdown",
   "id": "f987a005",
   "metadata": {},
   "source": [
    "### TO DO:class-membership probability index = 200"
   ]
  },
  {
   "cell_type": "code",
   "execution_count": 31,
   "id": "f3db779a",
   "metadata": {},
   "outputs": [],
   "source": [
    "# Same steps as above"
   ]
  },
  {
   "cell_type": "markdown",
   "id": "41dbe523",
   "metadata": {},
   "source": [
    "## Build Logistic Regression Model"
   ]
  },
  {
   "cell_type": "markdown",
   "id": "dc3f91c7",
   "metadata": {},
   "source": [
    "### TO DO: scikit-learn Logistic Regression for this lab"
   ]
  },
  {
   "cell_type": "code",
   "execution_count": 32,
   "id": "68f7c99f",
   "metadata": {},
   "outputs": [],
   "source": [
    "# Import and instantiate the Logistic Regression Model in SciKit-Learn is in the cell below"
   ]
  },
  {
   "cell_type": "markdown",
   "id": "c2e7e1de",
   "metadata": {},
   "source": [
    "### TO DO: Train the model by calling the model's fit function"
   ]
  },
  {
   "cell_type": "code",
   "execution_count": 33,
   "id": "75590d60",
   "metadata": {},
   "outputs": [],
   "source": [
    "# Fit your dataset"
   ]
  },
  {
   "cell_type": "markdown",
   "id": "7aee86e3",
   "metadata": {},
   "source": [
    "### TO DO: Evaluate the Logistic Regression Model"
   ]
  },
  {
   "cell_type": "code",
   "execution_count": 34,
   "id": "1b9577a3",
   "metadata": {},
   "outputs": [],
   "source": [
    "# create the model's predictions. Name the prediction vector y_pred"
   ]
  },
  {
   "cell_type": "markdown",
   "id": "9e504269",
   "metadata": {},
   "source": [
    "### TO DO: Evaluate the Logistic Regression Model's Performance"
   ]
  },
  {
   "cell_type": "code",
   "execution_count": 36,
   "id": "c56b722f",
   "metadata": {},
   "outputs": [],
   "source": [
    "# Use SciKit Learn's built-in scoring method to evaluate the model's performance accuracy"
   ]
  },
  {
   "cell_type": "markdown",
   "id": "7a99c773",
   "metadata": {},
   "source": [
    "## Predicting class-membership probabilities using the Logistic Regression Model"
   ]
  },
  {
   "cell_type": "markdown",
   "id": "21ce3abe",
   "metadata": {},
   "source": [
    "### TO DO:class-membership probability index = 10"
   ]
  },
  {
   "cell_type": "code",
   "execution_count": 37,
   "id": "cefcec61",
   "metadata": {},
   "outputs": [],
   "source": [
    "#Predict the class membership probability by using the a row with index = 10 from the X_test_std data. \n",
    "\n",
    "#Make sure your print statement uses a complete sentence and be sure to compare your prediction with the correct answer using the corresponding row from the test set labels, y_test.\n"
   ]
  },
  {
   "cell_type": "markdown",
   "id": "15e54710",
   "metadata": {},
   "source": [
    "### TO DO:class-membership probability index = 130"
   ]
  },
  {
   "cell_type": "code",
   "execution_count": 39,
   "id": "f4841895",
   "metadata": {},
   "outputs": [],
   "source": [
    "# Same steps as above"
   ]
  },
  {
   "cell_type": "markdown",
   "id": "fba83cc1",
   "metadata": {},
   "source": [
    "### TO DO:class-membership probability index = 200"
   ]
  },
  {
   "cell_type": "code",
   "execution_count": 41,
   "id": "369fe6e3",
   "metadata": {},
   "outputs": [],
   "source": [
    "# Same Steps as above"
   ]
  },
  {
   "cell_type": "markdown",
   "id": "4896f559",
   "metadata": {},
   "source": [
    "## Build Linear Support Vector Classifier Model"
   ]
  },
  {
   "cell_type": "markdown",
   "id": "8ff64d43",
   "metadata": {},
   "source": [
    "### TO DO:scikit-learn Linear Support Vector Classifier for this lab"
   ]
  },
  {
   "cell_type": "code",
   "execution_count": 42,
   "id": "9d67b9ea",
   "metadata": {},
   "outputs": [],
   "source": [
    "# Import and instantiate the Linear Support Vector Classifier Model in SciKit-Learn"
   ]
  },
  {
   "cell_type": "markdown",
   "id": "560ba219",
   "metadata": {},
   "source": [
    "### TO DO: Train the model by calling the model's fit function"
   ]
  },
  {
   "cell_type": "code",
   "execution_count": 44,
   "id": "b5eba632",
   "metadata": {},
   "outputs": [],
   "source": [
    "# Fit your dataset"
   ]
  },
  {
   "cell_type": "markdown",
   "id": "ff36d946",
   "metadata": {},
   "source": [
    "### TO DO: Evaluate the Linear Suport Vector Classifier Model"
   ]
  },
  {
   "cell_type": "code",
   "execution_count": 45,
   "id": "5ca21745",
   "metadata": {},
   "outputs": [],
   "source": [
    "# create the model's predictions. Name the prediction vector y_pred"
   ]
  },
  {
   "cell_type": "markdown",
   "id": "eab79820",
   "metadata": {},
   "source": [
    "### TO DO: Evaluate the Linear Suport Vector Model's Performance"
   ]
  },
  {
   "cell_type": "code",
   "execution_count": 48,
   "id": "5afaa895",
   "metadata": {},
   "outputs": [],
   "source": [
    "# Use SciKit Learn's built-in scoring method to evaluate the model's performance accuracy."
   ]
  },
  {
   "cell_type": "markdown",
   "id": "70afe993",
   "metadata": {},
   "source": [
    "### TO DO: Using the Predict Method of the Linear Suport Vector Model"
   ]
  },
  {
   "cell_type": "code",
   "execution_count": 49,
   "id": "d2cd60c1",
   "metadata": {},
   "outputs": [],
   "source": [
    "# Use SciKit Learn's built-in predict method to test the model's predictive performance for the first row of data in X_test_std"
   ]
  },
  {
   "cell_type": "markdown",
   "id": "ccf88b60",
   "metadata": {},
   "source": [
    "### TO DO:Print the number of misclassifications using numpy"
   ]
  },
  {
   "cell_type": "code",
   "execution_count": 50,
   "id": "3a1d5f14",
   "metadata": {},
   "outputs": [],
   "source": [
    "#"
   ]
  },
  {
   "cell_type": "markdown",
   "id": "d4b81110",
   "metadata": {},
   "source": [
    "## Confusion Matrix"
   ]
  },
  {
   "cell_type": "markdown",
   "id": "4efee6d9",
   "metadata": {},
   "source": [
    "### TO DO: Compute the Confusion Matrix for the Linear Suport Vector Model"
   ]
  },
  {
   "cell_type": "code",
   "execution_count": 52,
   "id": "16da0087",
   "metadata": {},
   "outputs": [],
   "source": [
    "# Use SciKit Learn's metrics module to compute the model's confusion matrix"
   ]
  },
  {
   "cell_type": "markdown",
   "id": "da13c7b8",
   "metadata": {},
   "source": [
    "### TO DO: Classification Correctness"
   ]
  },
  {
   "cell_type": "code",
   "execution_count": 55,
   "id": "4675c0d3",
   "metadata": {},
   "outputs": [],
   "source": [
    "# Based on the output of your confusion matrix, what was the total number of correct classifications of Substance 2?\n",
    "\n",
    "# Enter your answer as markdown in the cell below:"
   ]
  },
  {
   "cell_type": "markdown",
   "id": "0aab8323",
   "metadata": {},
   "source": [
    "### TO DO: Compute the Classification report for Linear Suport Vector Model"
   ]
  },
  {
   "cell_type": "code",
   "execution_count": 56,
   "id": "7516bf26",
   "metadata": {},
   "outputs": [],
   "source": [
    "# Use SciKit Learn's metrics module to compute the model's classification report."
   ]
  },
  {
   "cell_type": "markdown",
   "id": "ee08240d",
   "metadata": {},
   "source": [
    "### TO DO: Classification Report"
   ]
  },
  {
   "cell_type": "markdown",
   "id": "13c14436",
   "metadata": {},
   "source": [
    "Based on the output of your classification report, out of all the times Substance 1 should have been predicted, what percentage of times was\n",
    "it correctly predicted?\n",
    "\n",
    "Which performance score did you use to evaluate the performance of the model(s) from the confusion matrix /classification report? (HINT: You\n",
    "may need to research the meaning and difference between precision, recall and f1-score)\n",
    "\n",
    "Enter your answer as markdown in the cell below"
   ]
  },
  {
   "cell_type": "markdown",
   "id": "0e8bca5e",
   "metadata": {},
   "source": [
    "## Serialization\n",
    "___"
   ]
  },
  {
   "cell_type": "markdown",
   "id": "05b07985",
   "metadata": {},
   "source": [
    "### TO DO: Model Persistence - Save/Load the trained classifier"
   ]
  },
  {
   "cell_type": "markdown",
   "id": "8a777bcf",
   "metadata": {},
   "source": [
    "To receive full credit for this part you must test the saved and re-loaded classifiers on an instance of “unknown” data and show that it correctly\n",
    "classifies the instance. It’s ok if you use an instance (sample) that is from the test set as the “unknown” data.\n",
    "\n",
    "**NOTE: Use either the Logistic Regression Model or the K-Nearest Neighbors Classifier for this part**"
   ]
  },
  {
   "cell_type": "markdown",
   "id": "79d50305",
   "metadata": {},
   "source": [
    "### Step 1: Save the Model"
   ]
  },
  {
   "cell_type": "code",
   "execution_count": 57,
   "id": "d6099ee2",
   "metadata": {},
   "outputs": [],
   "source": [
    "# Pickle (serialize) and save the trained classifier to a folder"
   ]
  },
  {
   "cell_type": "markdown",
   "id": "1c2a0487",
   "metadata": {},
   "source": [
    "### Step 2: Load the saved model"
   ]
  },
  {
   "cell_type": "code",
   "execution_count": 58,
   "id": "ef2acf1f",
   "metadata": {},
   "outputs": [],
   "source": [
    "# Load the saved the trained classifier into memory"
   ]
  },
  {
   "cell_type": "markdown",
   "id": "c5c8a14a",
   "metadata": {},
   "source": [
    "### Step 3: Test the re-loaded model"
   ]
  },
  {
   "cell_type": "code",
   "execution_count": 59,
   "id": "de6d4000",
   "metadata": {},
   "outputs": [],
   "source": [
    "# Use SciKit Learn's built-in predict method to test the re-loaded model on data from the row of data in X_test_std with index equal to six (6)"
   ]
  },
  {
   "cell_type": "markdown",
   "id": "3fbc0eb2",
   "metadata": {},
   "source": [
    "Give a brief (¼ page) report (in the markdown cell below ) of your analysis detailing your understanding of the analysis, the machine learning\n",
    "models and their comparative performance, statistical insights, etc. (include reference website links if used)"
   ]
  },
  {
   "cell_type": "code",
   "execution_count": 60,
   "id": "05cbb997",
   "metadata": {},
   "outputs": [],
   "source": [
    "###"
   ]
  },
  {
   "cell_type": "markdown",
   "id": "f9009277",
   "metadata": {},
   "source": [
    "## BONUS (15 pts)"
   ]
  },
  {
   "cell_type": "code",
   "execution_count": null,
   "id": "86380151",
   "metadata": {},
   "outputs": [],
   "source": []
  }
 ],
 "metadata": {
  "kernelspec": {
   "display_name": "Python 3 (ipykernel)",
   "language": "python",
   "name": "python3"
  },
  "language_info": {
   "codemirror_mode": {
    "name": "ipython",
    "version": 3
   },
   "file_extension": ".py",
   "mimetype": "text/x-python",
   "name": "python",
   "nbconvert_exporter": "python",
   "pygments_lexer": "ipython3",
   "version": "3.11.5"
  }
 },
 "nbformat": 4,
 "nbformat_minor": 5
}
