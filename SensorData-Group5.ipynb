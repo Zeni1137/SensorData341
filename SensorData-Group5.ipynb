{
 "cells": [
  {
   "cell_type": "markdown",
   "id": "7fe5b272",
   "metadata": {},
   "source": [
    "<h1 style=\"color:blue; text-align:center\"> ISAT341- Machine Learning and Data Science </h1>\n",
    "\n",
    "<h2 style=\"color:Green; text-align:center; font-family:ComicSans\"> Project: Machine Learning Confidential Sensor Data </h2>\n",
    "\n",
    "<img src=\"images/machine_learning.jpg\" width=200; height=200>\n",
    "\n",
    "\n",
    "<h2 style=\"color:Green; text-align:center; font-family:ComicSans\"> Working with real-world datasets</h2>"
   ]
  },
  {
   "cell_type": "markdown",
   "id": "9056cd84",
   "metadata": {},
   "source": [
    "# Objectives\n",
    "To demonstrate the ability to complete an end-to-end data science / machine learning project using real-world data by following and implementing the main machine learning checklist steps that lead to a solution, namely:\n",
    "\n",
    "* Frame the problem and look at the big picture.\n",
    "* Get the data.\n",
    "* Explore the data to gain insights.\n",
    "* Prepare the data to expose the underlying data patterns to Machine Learning algorithms.\n",
    "* Explore many different models and short-list the best ones.\n",
    "* Fine-tune your models and combine them into a great solution.\n",
    "* Present your solution.\n",
    "* Launch, monitor, and maintain your system\n"
   ]
  },
  {
   "cell_type": "markdown",
   "id": "6eae62b7",
   "metadata": {},
   "source": [
    "## Frame the Problem\n",
    "\n",
    "<img src=\"images/sensor_array.jpg\" width=300; height=300>"
   ]
  },
  {
   "cell_type": "markdown",
   "id": "c1e0142d",
   "metadata": {},
   "source": [
    "### Sensor Data\n",
    "\n",
    "The data source as well as the exact nature of the data is confidential. Each data instance contains 12 real-valued input attributes. Each input\n",
    "attribute represents a sensor designed to detect the presence of one of two groups of substances. As an alternative, the sensor readings may\n",
    "represent a 'false alarm'.\n",
    "\n",
    "* Substance 1 is represented by the value 'one' in the class attribute column.\n",
    "* Substance 2 is represented by the value 'two' in the class attribute column.\n",
    "* A false alarm is represented by the value 'three' in the class attribute column.\n",
    "\n",
    "The problem is framed as a **supervised learning** problem: Predict the class of a substance from sensor data using the given measurements in\n",
    "the dataset.\n"
   ]
  },
  {
   "cell_type": "code",
   "execution_count": 2,
   "id": "d35b9b8f",
   "metadata": {},
   "outputs": [],
   "source": [
    "# import packages\n",
    "%matplotlib inline\n",
    "import matplotlib.pyplot as plt\n",
    "import numpy as np\n",
    "import pandas as pd\n",
    "np.set_printoptions(precision=3, suppress=True)"
   ]
  },
  {
   "cell_type": "markdown",
   "id": "b2560900",
   "metadata": {},
   "source": [
    "## Exploratory Data Analysis"
   ]
  },
  {
   "cell_type": "markdown",
   "id": "2e70ef3e",
   "metadata": {},
   "source": [
    "### TO DO: Use Pandas to load your data into a dataframe"
   ]
  },
  {
   "cell_type": "code",
   "execution_count": 3,
   "id": "b3a76b22",
   "metadata": {},
   "outputs": [],
   "source": [
    "# Display the first ten rows after you load the data."
   ]
  },
  {
   "cell_type": "markdown",
   "id": "c30fa305",
   "metadata": {},
   "source": [
    "### TO DO: Use the dataframe describe method dataframe.describe() to display some summary statistics"
   ]
  },
  {
   "cell_type": "code",
   "execution_count": 5,
   "id": "68eaafde",
   "metadata": {},
   "outputs": [],
   "source": [
    "#"
   ]
  },
  {
   "cell_type": "markdown",
   "id": "293c14c9",
   "metadata": {},
   "source": [
    "## Data Cleansing"
   ]
  },
  {
   "cell_type": "markdown",
   "id": "f16d8c59",
   "metadata": {},
   "source": [
    "### TO DO: Display the shape of your dataframe data in the cell below"
   ]
  },
  {
   "cell_type": "code",
   "execution_count": 6,
   "id": "c2ac6ced",
   "metadata": {},
   "outputs": [],
   "source": [
    "#"
   ]
  },
  {
   "cell_type": "markdown",
   "id": "6b126f5d",
   "metadata": {},
   "source": [
    "### TO DO: Use Pandas dataframe to find bad or missing data."
   ]
  },
  {
   "cell_type": "code",
   "execution_count": 7,
   "id": "4b9838fb",
   "metadata": {},
   "outputs": [],
   "source": [
    "#Enter your code in the cell below to implement the drop, replace and display.\n",
    "#Enter your code in the cell immediately following the output of the dataframe display to show the new shape of data in thedataframe."
   ]
  },
  {
   "cell_type": "code",
   "execution_count": 9,
   "id": "2f4ccc17",
   "metadata": {},
   "outputs": [],
   "source": [
    "# shape of data in dataframe after cleansing"
   ]
  },
  {
   "cell_type": "markdown",
   "id": "e232cd9e",
   "metadata": {},
   "source": [
    "### TO DO: Use pandas correlation method to find the two features (inputs) with the highest correlation"
   ]
  },
  {
   "cell_type": "code",
   "execution_count": 10,
   "id": "25e898ae",
   "metadata": {},
   "outputs": [],
   "source": [
    "#Enter your answers in the cell immediately following the output correlation table"
   ]
  },
  {
   "cell_type": "markdown",
   "id": "bd0b3ab3",
   "metadata": {},
   "source": [
    "## Data Visualization"
   ]
  },
  {
   "cell_type": "markdown",
   "id": "0248b59e",
   "metadata": {},
   "source": [
    "### TO DO: Plot bar charts using pandas dataframe (plot the mean value of the sensors)"
   ]
  },
  {
   "cell_type": "code",
   "execution_count": null,
   "id": "b235dc1d",
   "metadata": {},
   "outputs": [],
   "source": [
    "#"
   ]
  },
  {
   "cell_type": "markdown",
   "id": "f3e67e15",
   "metadata": {},
   "source": [
    "## Data Preprocessing"
   ]
  },
  {
   "cell_type": "markdown",
   "id": "162ccfd8",
   "metadata": {},
   "source": [
    "### TO DO: Create Feature Matrix and Target Vector"
   ]
  },
  {
   "cell_type": "code",
   "execution_count": 12,
   "id": "b4001327",
   "metadata": {},
   "outputs": [],
   "source": [
    "# Features\" are also known as predictors, inputs, or attributes. The \"response\" is also known as the target, label, or output."
   ]
  },
  {
   "cell_type": "markdown",
   "id": "d4b677ab",
   "metadata": {},
   "source": [
    "### TO DO: Convert the features dataframe to a numpy array"
   ]
  },
  {
   "cell_type": "code",
   "execution_count": 13,
   "id": "d767dc9e",
   "metadata": {},
   "outputs": [],
   "source": [
    "#"
   ]
  },
  {
   "cell_type": "markdown",
   "id": "dcff8aff",
   "metadata": {},
   "source": [
    "### TO DO: Label Encoding"
   ]
  },
  {
   "cell_type": "code",
   "execution_count": 17,
   "id": "5d89545d",
   "metadata": {},
   "outputs": [],
   "source": [
    "# Transform the categorical labels into integers using the scikit-learn label encoder"
   ]
  },
  {
   "cell_type": "markdown",
   "id": "ca46d19d",
   "metadata": {},
   "source": [
    "### TO DO: Split the data into Training and Testing Sets"
   ]
  },
  {
   "cell_type": "code",
   "execution_count": 18,
   "id": "3d1e674c",
   "metadata": {},
   "outputs": [],
   "source": [
    "#Use a 80% / 20% train/test split for this project.\n",
    "#NOTE: You must use the encoded class labels in this part"
   ]
  },
  {
   "cell_type": "markdown",
   "id": "47b66560",
   "metadata": {},
   "source": [
    "### TO DO:Look at the shape of the data (rows and columns) after splitting it into training and testing sets"
   ]
  },
  {
   "cell_type": "code",
   "execution_count": 19,
   "id": "49df05b2",
   "metadata": {},
   "outputs": [],
   "source": [
    "# Enter your code in TWO cells"
   ]
  },
  {
   "cell_type": "code",
   "execution_count": 20,
   "id": "1e7141ea",
   "metadata": {},
   "outputs": [],
   "source": [
    "#"
   ]
  },
  {
   "cell_type": "markdown",
   "id": "e61cce8c",
   "metadata": {},
   "source": [
    "## Scale The Data"
   ]
  },
  {
   "cell_type": "markdown",
   "id": "78e9ac01",
   "metadata": {},
   "source": [
    "### TO DO: Let's use the StandarScaler from Scikit-learn to transform (scale) our feature"
   ]
  },
  {
   "cell_type": "code",
   "execution_count": 23,
   "id": "caac9192",
   "metadata": {},
   "outputs": [],
   "source": [
    "# Standardizing the Features\n",
    "\n",
    "\n",
    "# from this point forward you must use the scaled training and testing data"
   ]
  },
  {
   "cell_type": "markdown",
   "id": "bcd2108c",
   "metadata": {},
   "source": [
    "## Model Building"
   ]
  },
  {
   "cell_type": "markdown",
   "id": "77b468cd",
   "metadata": {},
   "source": [
    "Algorithms being used: \n",
    "1. K-Nearest Neighbor (with K=10, K=50, K=200)\n",
    "2. Logistic Regression\n",
    "3. Linear Support Vector Classifier\n"
   ]
  },
  {
   "cell_type": "markdown",
   "id": "f72f9b88",
   "metadata": {},
   "source": [
    "## Build a KNN Classification Model for K = 10, 50 and 200"
   ]
  },
  {
   "cell_type": "markdown",
   "id": "60bca5b9",
   "metadata": {},
   "source": [
    "### TO DO: In the sections below you should build and train the actual machine learning model."
   ]
  },
  {
   "cell_type": "code",
   "execution_count": 25,
   "id": "bb2f28b5",
   "metadata": {},
   "outputs": [],
   "source": [
    "# In the cell below: enter the code to import, instantiate, fit, \n",
    "#predict and test the model's performance (accuracy) for the K-Nearest\n",
    "#Neighbor Model in SciKit-Learn for K= 10, 50 and 200. \n",
    "#!!! This should be completed in ONE cell using a loop, etc. !!!!"
   ]
  },
  {
   "cell_type": "markdown",
   "id": "26700cf7",
   "metadata": {},
   "source": [
    "### TO DO:class-membership probability index = 10 "
   ]
  },
  {
   "cell_type": "code",
   "execution_count": 28,
   "id": "2f18e4cd",
   "metadata": {},
   "outputs": [],
   "source": [
    "#Predict the class membership probability by using the a row with index = 10 from the X_test_std data. \n",
    "\n",
    "#Make sure your print statement uses a complete sentence and be sure to compare your prediction with the correct answer using the corresponding row from the test set labels, y_test"
   ]
  },
  {
   "cell_type": "markdown",
   "id": "a5541c5b",
   "metadata": {},
   "source": [
    "### TO DO:class-membership probability index = 125"
   ]
  },
  {
   "cell_type": "code",
   "execution_count": 29,
   "id": "c74d7c92",
   "metadata": {},
   "outputs": [],
   "source": [
    "# Same steps as above"
   ]
  },
  {
   "cell_type": "markdown",
   "id": "f987a005",
   "metadata": {},
   "source": [
    "### TO DO:class-membership probability index = 200"
   ]
  },
  {
   "cell_type": "code",
   "execution_count": 31,
   "id": "f3db779a",
   "metadata": {},
   "outputs": [],
   "source": [
    "# Same steps as above"
   ]
  },
  {
   "cell_type": "markdown",
   "id": "41dbe523",
   "metadata": {},
   "source": [
    "## Build Logistic Regression Model"
   ]
  },
  {
   "cell_type": "markdown",
   "id": "dc3f91c7",
   "metadata": {},
   "source": [
    "### TO DO: scikit-learn Logistic Regression for this lab"
   ]
  },
  {
   "cell_type": "code",
   "execution_count": 32,
   "id": "68f7c99f",
   "metadata": {},
   "outputs": [],
   "source": [
    "# Import and instantiate the Logistic Regression Model in SciKit-Learn is in the cell below"
   ]
  },
  {
   "cell_type": "markdown",
   "id": "c2e7e1de",
   "metadata": {},
   "source": [
    "### TO DO: Train the model by calling the model's fit function"
   ]
  },
  {
   "cell_type": "code",
   "execution_count": 33,
   "id": "75590d60",
   "metadata": {},
   "outputs": [],
   "source": [
    "# Fit your dataset"
   ]
  },
  {
   "cell_type": "markdown",
   "id": "7aee86e3",
   "metadata": {},
   "source": [
    "### TO DO: Evaluate the Logistic Regression Model"
   ]
  },
  {
   "cell_type": "code",
   "execution_count": 34,
   "id": "1b9577a3",
   "metadata": {},
   "outputs": [],
   "source": [
    "# create the model's predictions. Name the prediction vector y_pred"
   ]
  },
  {
   "cell_type": "markdown",
   "id": "9e504269",
   "metadata": {},
   "source": [
    "### TO DO: Evaluate the Logistic Regression Model's Performance"
   ]
  },
  {
   "cell_type": "code",
   "execution_count": 36,
   "id": "c56b722f",
   "metadata": {},
   "outputs": [],
   "source": [
    "# Use SciKit Learn's built-in scoring method to evaluate the model's performance accuracy"
   ]
  },
  {
   "cell_type": "markdown",
   "id": "7a99c773",
   "metadata": {},
   "source": [
    "## Predicting class-membership probabilities using the Logistic Regression Model"
   ]
  },
  {
   "cell_type": "markdown",
   "id": "21ce3abe",
   "metadata": {},
   "source": [
    "### TO DO:class-membership probability index = 10"
   ]
  },
  {
   "cell_type": "code",
   "execution_count": 37,
   "id": "cefcec61",
   "metadata": {},
   "outputs": [],
   "source": [
    "#Predict the class membership probability by using the a row with index = 10 from the X_test_std data. \n",
    "\n",
    "#Make sure your print statement uses a complete sentence and be sure to compare your prediction with the correct answer using the corresponding row from the test set labels, y_test.\n"
   ]
  },
  {
   "cell_type": "markdown",
   "id": "15e54710",
   "metadata": {},
   "source": [
    "### TO DO:class-membership probability index = 130"
   ]
  },
  {
   "cell_type": "code",
   "execution_count": 39,
   "id": "f4841895",
   "metadata": {},
   "outputs": [],
   "source": [
    "# Same steps as above"
   ]
  },
  {
   "cell_type": "markdown",
   "id": "fba83cc1",
   "metadata": {},
   "source": [
    "### TO DO:class-membership probability index = 200"
   ]
  },
  {
   "cell_type": "code",
   "execution_count": 41,
   "id": "369fe6e3",
   "metadata": {},
   "outputs": [],
   "source": [
    "# Same Steps as above"
   ]
  },
  {
   "cell_type": "markdown",
   "id": "4896f559",
   "metadata": {},
   "source": [
    "## Build Linear Support Vector Classifier Model"
   ]
  },
  {
   "cell_type": "markdown",
   "id": "8ff64d43",
   "metadata": {},
   "source": [
    "### TO DO:scikit-learn Linear Support Vector Classifier for this lab"
   ]
  },
  {
   "cell_type": "code",
   "execution_count": 42,
   "id": "9d67b9ea",
   "metadata": {},
   "outputs": [],
   "source": [
    "# Import and instantiate the Linear Support Vector Classifier Model in SciKit-Learn"
   ]
  },
  {
   "cell_type": "markdown",
   "id": "560ba219",
   "metadata": {},
   "source": [
    "### TO DO: Train the model by calling the model's fit function"
   ]
  },
  {
   "cell_type": "code",
   "execution_count": 44,
   "id": "b5eba632",
   "metadata": {},
   "outputs": [],
   "source": [
    "# Fit your dataset"
   ]
  },
  {
   "cell_type": "markdown",
   "id": "ff36d946",
   "metadata": {},
   "source": [
    "### TO DO: Evaluate the Linear Suport Vector Classifier Model"
   ]
  },
  {
   "cell_type": "code",
   "execution_count": 45,
   "id": "5ca21745",
   "metadata": {},
   "outputs": [],
   "source": [
    "# create the model's predictions. Name the prediction vector y_pred"
   ]
  },
  {
   "cell_type": "markdown",
   "id": "eab79820",
   "metadata": {},
   "source": [
    "### TO DO: Evaluate the Linear Suport Vector Model's Performance"
   ]
  },
  {
   "cell_type": "code",
   "execution_count": 48,
   "id": "5afaa895",
   "metadata": {},
   "outputs": [],
   "source": [
    "# Use SciKit Learn's built-in scoring method to evaluate the model's performance accuracy."
   ]
  },
  {
   "cell_type": "markdown",
   "id": "70afe993",
   "metadata": {},
   "source": [
    "### TO DO: Using the Predict Method of the Linear Suport Vector Model"
   ]
  },
  {
   "cell_type": "code",
   "execution_count": 49,
   "id": "d2cd60c1",
   "metadata": {},
   "outputs": [],
   "source": [
    "# Use SciKit Learn's built-in predict method to test the model's predictive performance for the first row of data in X_test_std"
   ]
  },
  {
   "cell_type": "markdown",
   "id": "ccf88b60",
   "metadata": {},
   "source": [
    "### TO DO:Print the number of misclassifications using numpy"
   ]
  },
  {
   "cell_type": "code",
   "execution_count": 50,
   "id": "3a1d5f14",
   "metadata": {},
   "outputs": [],
   "source": [
    "#"
   ]
  },
  {
   "cell_type": "markdown",
   "id": "d4b81110",
   "metadata": {},
   "source": [
    "## Confusion Matrix"
   ]
  },
  {
   "cell_type": "markdown",
   "id": "4efee6d9",
   "metadata": {},
   "source": [
    "### TO DO: Compute the Confusion Matrix for the Linear Suport Vector Model"
   ]
  },
  {
   "cell_type": "code",
   "execution_count": 52,
   "id": "16da0087",
   "metadata": {},
   "outputs": [],
   "source": [
    "# Use SciKit Learn's metrics module to compute the model's confusion matrix"
   ]
  },
  {
   "cell_type": "markdown",
   "id": "da13c7b8",
   "metadata": {},
   "source": [
    "### TO DO: Classification Correctness"
   ]
  },
  {
   "cell_type": "code",
   "execution_count": 55,
   "id": "4675c0d3",
   "metadata": {},
   "outputs": [],
   "source": [
    "# Based on the output of your confusion matrix, what was the total number of correct classifications of Substance 2?\n",
    "\n",
    "#Enter your answer as markdown in the cell below:"
   ]
  },
  {
   "cell_type": "markdown",
   "id": "0aab8323",
   "metadata": {},
   "source": [
    "### TO DO: Compute the Classification report for Linear Suport Vector Model"
   ]
  },
  {
   "cell_type": "code",
   "execution_count": 56,
   "id": "7516bf26",
   "metadata": {},
   "outputs": [],
   "source": [
    "# Use SciKit Learn's metrics module to compute the model's classification report."
   ]
  },
  {
   "cell_type": "markdown",
   "id": "ee08240d",
   "metadata": {},
   "source": [
    "### TO DO: Classification Report"
   ]
  },
  {
   "cell_type": "markdown",
   "id": "13c14436",
   "metadata": {},
   "source": [
    "Based on the output of your classification report, out of all the times Substance 1 should have been predicted, what percentage of times was\n",
    "it correctly predicted?\n",
    "\n",
    "Which performance score did you use to evaluate the performance of the model(s) from the confusion matrix /classification report? (HINT: You\n",
    "may need to research the meaning and difference between precision, recall and f1-score)\n",
    "\n",
    "Enter your answer as markdown in the cell below"
   ]
  },
  {
   "cell_type": "markdown",
   "id": "0e8bca5e",
   "metadata": {},
   "source": [
    "## Serialization\n",
    "___"
   ]
  },
  {
   "cell_type": "markdown",
   "id": "05b07985",
   "metadata": {},
   "source": [
    "### TO DO: Model Persistence - Save/Load the trained classifier"
   ]
  },
  {
   "cell_type": "markdown",
   "id": "8a777bcf",
   "metadata": {},
   "source": [
    "To receive full credit for this part you must test the saved and re-loaded classifiers on an instance of “unknown” data and show that it correctly\n",
    "classifies the instance. It’s ok if you use an instance (sample) that is from the test set as the “unknown” data.\n",
    "\n",
    "**NOTE: Use either the Logistic Regression Model or the K-Nearest Neighbors Classifier for this part**"
   ]
  },
  {
   "cell_type": "markdown",
   "id": "79d50305",
   "metadata": {},
   "source": [
    "### Step 1: Save the Model"
   ]
  },
  {
   "cell_type": "code",
   "execution_count": 57,
   "id": "d6099ee2",
   "metadata": {},
   "outputs": [],
   "source": [
    "# Pickle (serialize) and save the trained classifier to a folder"
   ]
  },
  {
   "cell_type": "markdown",
   "id": "1c2a0487",
   "metadata": {},
   "source": [
    "### Step 2: Load the saved model"
   ]
  },
  {
   "cell_type": "code",
   "execution_count": 58,
   "id": "ef2acf1f",
   "metadata": {},
   "outputs": [],
   "source": [
    "# Load the saved the trained classifier into memory"
   ]
  },
  {
   "cell_type": "markdown",
   "id": "c5c8a14a",
   "metadata": {},
   "source": [
    "### Step 3: Test the re-loaded model"
   ]
  },
  {
   "cell_type": "code",
   "execution_count": 59,
   "id": "de6d4000",
   "metadata": {},
   "outputs": [],
   "source": [
    "# Use SciKit Learn's built-in predict method to test the re-loaded model on data from the row of data in X_test_std with index equal to six (6)"
   ]
  },
  {
   "cell_type": "markdown",
   "id": "3fbc0eb2",
   "metadata": {},
   "source": [
    "Give a brief (¼ page) report (in the markdown cell below ) of your analysis detailing your understanding of the analysis, the machine learning\n",
    "models and their comparative performance, statistical insights, etc. (include reference website links if used)"
   ]
  },
  {
   "cell_type": "code",
   "execution_count": 60,
   "id": "05cbb997",
   "metadata": {},
   "outputs": [],
   "source": [
    "###"
   ]
  },
  {
   "cell_type": "markdown",
   "id": "f9009277",
   "metadata": {},
   "source": [
    "## BONUS (15 pts)"
   ]
  },
  {
   "cell_type": "code",
   "execution_count": null,
   "id": "86380151",
   "metadata": {},
   "outputs": [],
   "source": []
  }
 ],
 "metadata": {
  "kernelspec": {
   "display_name": "Python 3 (ipykernel)",
   "language": "python",
   "name": "python3"
  },
  "language_info": {
   "codemirror_mode": {
    "name": "ipython",
    "version": 3
   },
   "file_extension": ".py",
   "mimetype": "text/x-python",
   "name": "python",
   "nbconvert_exporter": "python",
   "pygments_lexer": "ipython3",
   "version": "3.11.5"
  }
 },
 "nbformat": 4,
 "nbformat_minor": 5
}
