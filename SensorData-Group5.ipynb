{
 "cells": [
  {
   "cell_type": "markdown",
   "id": "7fe5b272",
   "metadata": {},
   "source": [
    "<h1 style=\"color:blue; text-align:center\"> ISAT341- Machine Learning and Data Science </h1>\n",
    "\n",
    "<h2 style=\"color:Green; text-align:center; font-family:ComicSans\"> Project: Machine Learning Confidential Sensor Data </h2>\n",
    "\n",
    "<img src=\"images/machine_learning.jpg\" width=200; height=200>\n",
    "\n",
    "\n",
    "<h2 style=\"color:Green; text-align:center; font-family:ComicSans\"> Working with real-world datasets</h2>"
   ]
  },
  {
   "cell_type": "markdown",
   "id": "9056cd84",
   "metadata": {},
   "source": [
    "# Objectives\n",
    "To demonstrate the ability to complete an end-to-end data science / machine learning project using real-world data by following and implementing the main machine learning checklist steps that lead to a solution, namely:\n",
    "\n",
    "* Frame the problem and look at the big picture.\n",
    "* Get the data.\n",
    "* Explore the data to gain insights.\n",
    "* Prepare the data to expose the underlying data patterns to Machine Learning algorithms.\n",
    "* Explore many different models and short-list the best ones.\n",
    "* Fine-tune your models and combine them into a great solution.\n",
    "* Present your solution.\n",
    "* Launch, monitor, and maintain your system\n"
   ]
  },
  {
   "cell_type": "markdown",
   "id": "6eae62b7",
   "metadata": {},
   "source": [
    "## Frame the Problem\n",
    "\n",
    "<img src=\"images/sensor_array.jpg\" width=300; height=300>"
   ]
  },
  {
   "cell_type": "markdown",
   "id": "c1e0142d",
   "metadata": {},
   "source": [
    "### Sensor Data\n",
    "\n",
    "The data source as well as the exact nature of the data is confidential. Each data instance contains 12 real-valued input attributes. Each input\n",
    "attribute represents a sensor designed to detect the presence of one of two groups of substances. As an alternative, the sensor readings may\n",
    "represent a 'false alarm'.\n",
    "\n",
    "* Substance 1 is represented by the value 'one' in the class attribute column.\n",
    "* Substance 2 is represented by the value 'two' in the class attribute column.\n",
    "* A false alarm is represented by the value 'three' in the class attribute column.\n",
    "\n",
    "The problem is framed as a **supervised learning** problem: Predict the class of a substance from sensor data using the given measurements in\n",
    "the dataset.\n"
   ]
  },
  {
   "cell_type": "code",
   "execution_count": 1,
   "id": "d35b9b8f",
   "metadata": {},
   "outputs": [],
   "source": [
    "# import packages\n",
    "%matplotlib inline\n",
    "import matplotlib.pyplot as plt\n",
    "import numpy as np\n",
    "import pandas as pd\n",
    "np.set_printoptions(precision=3, suppress=True)"
   ]
  },
  {
   "cell_type": "markdown",
   "id": "b2560900",
   "metadata": {},
   "source": [
    "## Exploratory Data Analysis"
   ]
  },
  {
   "cell_type": "markdown",
   "id": "2e70ef3e",
   "metadata": {},
   "source": [
    "### TO DO: Use Pandas to load your data into a dataframe"
   ]
  },
  {
   "cell_type": "code",
   "execution_count": 2,
   "id": "b3a76b22",
   "metadata": {},
   "outputs": [
    {
     "data": {
      "text/html": [
       "<div>\n",
       "<style scoped>\n",
       "    .dataframe tbody tr th:only-of-type {\n",
       "        vertical-align: middle;\n",
       "    }\n",
       "\n",
       "    .dataframe tbody tr th {\n",
       "        vertical-align: top;\n",
       "    }\n",
       "\n",
       "    .dataframe thead th {\n",
       "        text-align: right;\n",
       "    }\n",
       "</style>\n",
       "<table border=\"1\" class=\"dataframe\">\n",
       "  <thead>\n",
       "    <tr style=\"text-align: right;\">\n",
       "      <th></th>\n",
       "      <th>Input 1</th>\n",
       "      <th>Input 2</th>\n",
       "      <th>Input 3</th>\n",
       "      <th>Input 4</th>\n",
       "      <th>Input 5</th>\n",
       "      <th>Input 6</th>\n",
       "      <th>Input 7</th>\n",
       "      <th>Input 8</th>\n",
       "      <th>Input 9</th>\n",
       "      <th>Input 10</th>\n",
       "      <th>Input 11</th>\n",
       "      <th>Input 12</th>\n",
       "      <th>class</th>\n",
       "    </tr>\n",
       "  </thead>\n",
       "  <tbody>\n",
       "    <tr>\n",
       "      <th>0</th>\n",
       "      <td>1.473</td>\n",
       "      <td>2.311</td>\n",
       "      <td>3.179</td>\n",
       "      <td>2.666</td>\n",
       "      <td>0.2795</td>\n",
       "      <td>0.2771</td>\n",
       "      <td>0.22340</td>\n",
       "      <td>0.1855</td>\n",
       "      <td>0.2539</td>\n",
       "      <td>1.138</td>\n",
       "      <td>1.111</td>\n",
       "      <td>4.712</td>\n",
       "      <td>one</td>\n",
       "    </tr>\n",
       "    <tr>\n",
       "      <th>1</th>\n",
       "      <td>1.460</td>\n",
       "      <td>2.377</td>\n",
       "      <td>3.214</td>\n",
       "      <td>2.920</td>\n",
       "      <td>0.2527</td>\n",
       "      <td>0.3064</td>\n",
       "      <td>0.02563</td>\n",
       "      <td>0.1965</td>\n",
       "      <td>0.3027</td>\n",
       "      <td>1.213</td>\n",
       "      <td>1.027</td>\n",
       "      <td>5.463</td>\n",
       "      <td>one</td>\n",
       "    </tr>\n",
       "    <tr>\n",
       "      <th>2</th>\n",
       "      <td>1.552</td>\n",
       "      <td>2.164</td>\n",
       "      <td>3.064</td>\n",
       "      <td>2.745</td>\n",
       "      <td>0.2820</td>\n",
       "      <td>0.2100</td>\n",
       "      <td>0.17210</td>\n",
       "      <td>0.1929</td>\n",
       "      <td>0.2100</td>\n",
       "      <td>1.221</td>\n",
       "      <td>1.058</td>\n",
       "      <td>5.332</td>\n",
       "      <td>one</td>\n",
       "    </tr>\n",
       "    <tr>\n",
       "      <th>3</th>\n",
       "      <td>1.605</td>\n",
       "      <td>2.228</td>\n",
       "      <td>3.149</td>\n",
       "      <td>2.834</td>\n",
       "      <td>0.2917</td>\n",
       "      <td>0.3613</td>\n",
       "      <td>0.20870</td>\n",
       "      <td>0.1294</td>\n",
       "      <td>0.2734</td>\n",
       "      <td>1.144</td>\n",
       "      <td>1.062</td>\n",
       "      <td>4.829</td>\n",
       "      <td>one</td>\n",
       "    </tr>\n",
       "    <tr>\n",
       "      <th>4</th>\n",
       "      <td>1.534</td>\n",
       "      <td>2.114</td>\n",
       "      <td>3.309</td>\n",
       "      <td>2.976</td>\n",
       "      <td>0.2100</td>\n",
       "      <td>0.2502</td>\n",
       "      <td>0.22580</td>\n",
       "      <td>0.1770</td>\n",
       "      <td>0.2039</td>\n",
       "      <td>1.254</td>\n",
       "      <td>1.112</td>\n",
       "      <td>5.734</td>\n",
       "      <td>one</td>\n",
       "    </tr>\n",
       "  </tbody>\n",
       "</table>\n",
       "</div>"
      ],
      "text/plain": [
       "   Input 1  Input 2  Input 3  Input 4  Input 5  Input 6  Input 7  Input 8  \\\n",
       "0    1.473    2.311    3.179    2.666   0.2795   0.2771  0.22340   0.1855   \n",
       "1    1.460    2.377    3.214    2.920   0.2527   0.3064  0.02563   0.1965   \n",
       "2    1.552    2.164    3.064    2.745   0.2820   0.2100  0.17210   0.1929   \n",
       "3    1.605    2.228    3.149    2.834   0.2917   0.3613  0.20870   0.1294   \n",
       "4    1.534    2.114    3.309    2.976   0.2100   0.2502  0.22580   0.1770   \n",
       "\n",
       "   Input 9  Input 10  Input 11  Input 12 class  \n",
       "0   0.2539     1.138     1.111     4.712   one  \n",
       "1   0.3027     1.213     1.027     5.463   one  \n",
       "2   0.2100     1.221     1.058     5.332   one  \n",
       "3   0.2734     1.144     1.062     4.829   one  \n",
       "4   0.2039     1.254     1.112     5.734   one  "
      ]
     },
     "execution_count": 2,
     "metadata": {},
     "output_type": "execute_result"
    }
   ],
   "source": [
    "# Display the first ten rows after you load the data.\n",
    "df = pd.read_csv(\"data/Sensor_Data_Confidential_341Project_DataSet5.csv\")\n",
    "\n",
    "df.head()"
   ]
  },
  {
   "cell_type": "markdown",
   "id": "c30fa305",
   "metadata": {},
   "source": [
    "### TO DO: Use the dataframe describe method dataframe.describe() to display some summary statistics"
   ]
  },
  {
   "cell_type": "code",
   "execution_count": 3,
   "id": "68eaafde",
   "metadata": {},
   "outputs": [
    {
     "data": {
      "text/html": [
       "<div>\n",
       "<style scoped>\n",
       "    .dataframe tbody tr th:only-of-type {\n",
       "        vertical-align: middle;\n",
       "    }\n",
       "\n",
       "    .dataframe tbody tr th {\n",
       "        vertical-align: top;\n",
       "    }\n",
       "\n",
       "    .dataframe thead th {\n",
       "        text-align: right;\n",
       "    }\n",
       "</style>\n",
       "<table border=\"1\" class=\"dataframe\">\n",
       "  <thead>\n",
       "    <tr style=\"text-align: right;\">\n",
       "      <th></th>\n",
       "      <th>Input 1</th>\n",
       "      <th>Input 2</th>\n",
       "      <th>Input 3</th>\n",
       "      <th>Input 4</th>\n",
       "      <th>Input 5</th>\n",
       "      <th>Input 6</th>\n",
       "      <th>Input 7</th>\n",
       "      <th>Input 8</th>\n",
       "      <th>Input 9</th>\n",
       "      <th>Input 10</th>\n",
       "      <th>Input 11</th>\n",
       "      <th>Input 12</th>\n",
       "    </tr>\n",
       "  </thead>\n",
       "  <tbody>\n",
       "    <tr>\n",
       "      <th>count</th>\n",
       "      <td>2064.000000</td>\n",
       "      <td>2064.000000</td>\n",
       "      <td>2064.000000</td>\n",
       "      <td>2064.000000</td>\n",
       "      <td>2064.000000</td>\n",
       "      <td>2064.000000</td>\n",
       "      <td>2064.000000</td>\n",
       "      <td>2064.000000</td>\n",
       "      <td>2064.000000</td>\n",
       "      <td>2064.000000</td>\n",
       "      <td>2064.000000</td>\n",
       "      <td>2064.000000</td>\n",
       "    </tr>\n",
       "    <tr>\n",
       "      <th>mean</th>\n",
       "      <td>-102.944836</td>\n",
       "      <td>-109.711795</td>\n",
       "      <td>-111.319884</td>\n",
       "      <td>-67.994856</td>\n",
       "      <td>-124.949039</td>\n",
       "      <td>-105.066162</td>\n",
       "      <td>-81.658039</td>\n",
       "      <td>-125.587986</td>\n",
       "      <td>-100.835192</td>\n",
       "      <td>-74.740051</td>\n",
       "      <td>-85.312925</td>\n",
       "      <td>-78.599944</td>\n",
       "    </tr>\n",
       "    <tr>\n",
       "      <th>std</th>\n",
       "      <td>1027.427211</td>\n",
       "      <td>1050.057089</td>\n",
       "      <td>1072.729741</td>\n",
       "      <td>849.911071</td>\n",
       "      <td>1115.540299</td>\n",
       "      <td>1027.206775</td>\n",
       "      <td>903.995215</td>\n",
       "      <td>1115.467928</td>\n",
       "      <td>1003.772889</td>\n",
       "      <td>877.403031</td>\n",
       "      <td>930.088695</td>\n",
       "      <td>904.281076</td>\n",
       "    </tr>\n",
       "    <tr>\n",
       "      <th>min</th>\n",
       "      <td>-9999.000000</td>\n",
       "      <td>-9999.000000</td>\n",
       "      <td>-9999.000000</td>\n",
       "      <td>-9999.000000</td>\n",
       "      <td>-9999.000000</td>\n",
       "      <td>-9999.000000</td>\n",
       "      <td>-9999.000000</td>\n",
       "      <td>-9999.000000</td>\n",
       "      <td>-9999.000000</td>\n",
       "      <td>-9999.000000</td>\n",
       "      <td>-9999.000000</td>\n",
       "      <td>-9999.000000</td>\n",
       "    </tr>\n",
       "    <tr>\n",
       "      <th>25%</th>\n",
       "      <td>3.058500</td>\n",
       "      <td>0.817600</td>\n",
       "      <td>4.848250</td>\n",
       "      <td>3.998250</td>\n",
       "      <td>0.462600</td>\n",
       "      <td>0.649400</td>\n",
       "      <td>0.308800</td>\n",
       "      <td>0.188000</td>\n",
       "      <td>0.423600</td>\n",
       "      <td>1.379000</td>\n",
       "      <td>1.089000</td>\n",
       "      <td>0.789800</td>\n",
       "    </tr>\n",
       "    <tr>\n",
       "      <th>50%</th>\n",
       "      <td>4.082000</td>\n",
       "      <td>1.353000</td>\n",
       "      <td>5.336000</td>\n",
       "      <td>5.041000</td>\n",
       "      <td>0.806300</td>\n",
       "      <td>1.634500</td>\n",
       "      <td>0.565200</td>\n",
       "      <td>0.302700</td>\n",
       "      <td>0.694600</td>\n",
       "      <td>1.996000</td>\n",
       "      <td>1.285500</td>\n",
       "      <td>4.915000</td>\n",
       "    </tr>\n",
       "    <tr>\n",
       "      <th>75%</th>\n",
       "      <td>4.504000</td>\n",
       "      <td>2.354250</td>\n",
       "      <td>5.591250</td>\n",
       "      <td>5.642750</td>\n",
       "      <td>1.400750</td>\n",
       "      <td>2.159000</td>\n",
       "      <td>0.959800</td>\n",
       "      <td>0.491900</td>\n",
       "      <td>1.234250</td>\n",
       "      <td>4.974000</td>\n",
       "      <td>1.865250</td>\n",
       "      <td>5.403000</td>\n",
       "    </tr>\n",
       "    <tr>\n",
       "      <th>max</th>\n",
       "      <td>5.105000</td>\n",
       "      <td>4.675000</td>\n",
       "      <td>5.944000</td>\n",
       "      <td>6.013000</td>\n",
       "      <td>2.754000</td>\n",
       "      <td>3.638000</td>\n",
       "      <td>2.446000</td>\n",
       "      <td>1.199000</td>\n",
       "      <td>2.561000</td>\n",
       "      <td>5.312000</td>\n",
       "      <td>5.640000</td>\n",
       "      <td>20.000000</td>\n",
       "    </tr>\n",
       "  </tbody>\n",
       "</table>\n",
       "</div>"
      ],
      "text/plain": [
       "           Input 1      Input 2      Input 3      Input 4      Input 5  \\\n",
       "count  2064.000000  2064.000000  2064.000000  2064.000000  2064.000000   \n",
       "mean   -102.944836  -109.711795  -111.319884   -67.994856  -124.949039   \n",
       "std    1027.427211  1050.057089  1072.729741   849.911071  1115.540299   \n",
       "min   -9999.000000 -9999.000000 -9999.000000 -9999.000000 -9999.000000   \n",
       "25%       3.058500     0.817600     4.848250     3.998250     0.462600   \n",
       "50%       4.082000     1.353000     5.336000     5.041000     0.806300   \n",
       "75%       4.504000     2.354250     5.591250     5.642750     1.400750   \n",
       "max       5.105000     4.675000     5.944000     6.013000     2.754000   \n",
       "\n",
       "           Input 6      Input 7      Input 8      Input 9     Input 10  \\\n",
       "count  2064.000000  2064.000000  2064.000000  2064.000000  2064.000000   \n",
       "mean   -105.066162   -81.658039  -125.587986  -100.835192   -74.740051   \n",
       "std    1027.206775   903.995215  1115.467928  1003.772889   877.403031   \n",
       "min   -9999.000000 -9999.000000 -9999.000000 -9999.000000 -9999.000000   \n",
       "25%       0.649400     0.308800     0.188000     0.423600     1.379000   \n",
       "50%       1.634500     0.565200     0.302700     0.694600     1.996000   \n",
       "75%       2.159000     0.959800     0.491900     1.234250     4.974000   \n",
       "max       3.638000     2.446000     1.199000     2.561000     5.312000   \n",
       "\n",
       "          Input 11     Input 12  \n",
       "count  2064.000000  2064.000000  \n",
       "mean    -85.312925   -78.599944  \n",
       "std     930.088695   904.281076  \n",
       "min   -9999.000000 -9999.000000  \n",
       "25%       1.089000     0.789800  \n",
       "50%       1.285500     4.915000  \n",
       "75%       1.865250     5.403000  \n",
       "max       5.640000    20.000000  "
      ]
     },
     "execution_count": 3,
     "metadata": {},
     "output_type": "execute_result"
    }
   ],
   "source": [
    "df.describe()"
   ]
  },
  {
   "cell_type": "markdown",
   "id": "293c14c9",
   "metadata": {},
   "source": [
    "## Data Cleansing"
   ]
  },
  {
   "cell_type": "markdown",
   "id": "f16d8c59",
   "metadata": {},
   "source": [
    "### TO DO: Display the shape of your dataframe data in the cell below"
   ]
  },
  {
   "cell_type": "code",
   "execution_count": 4,
   "id": "c2ac6ced",
   "metadata": {},
   "outputs": [
    {
     "data": {
      "text/plain": [
       "(2064, 13)"
      ]
     },
     "execution_count": 4,
     "metadata": {},
     "output_type": "execute_result"
    }
   ],
   "source": [
    "df.shape"
   ]
  },
  {
   "cell_type": "markdown",
   "id": "6b126f5d",
   "metadata": {},
   "source": [
    "### TO DO: Use Pandas dataframe to find bad or missing data."
   ]
  },
  {
   "cell_type": "code",
   "execution_count": 5,
   "id": "4b9838fb",
   "metadata": {},
   "outputs": [
    {
     "data": {
      "text/html": [
       "<div>\n",
       "<style scoped>\n",
       "    .dataframe tbody tr th:only-of-type {\n",
       "        vertical-align: middle;\n",
       "    }\n",
       "\n",
       "    .dataframe tbody tr th {\n",
       "        vertical-align: top;\n",
       "    }\n",
       "\n",
       "    .dataframe thead th {\n",
       "        text-align: right;\n",
       "    }\n",
       "</style>\n",
       "<table border=\"1\" class=\"dataframe\">\n",
       "  <thead>\n",
       "    <tr style=\"text-align: right;\">\n",
       "      <th></th>\n",
       "      <th>Input 1</th>\n",
       "      <th>Input 2</th>\n",
       "      <th>Input 3</th>\n",
       "      <th>Input 4</th>\n",
       "      <th>Input 5</th>\n",
       "      <th>Input 6</th>\n",
       "      <th>Input 7</th>\n",
       "      <th>Input 8</th>\n",
       "      <th>Input 9</th>\n",
       "      <th>Input 10</th>\n",
       "      <th>Input 11</th>\n",
       "      <th>Input 12</th>\n",
       "      <th>class</th>\n",
       "    </tr>\n",
       "  </thead>\n",
       "  <tbody>\n",
       "    <tr>\n",
       "      <th>0</th>\n",
       "      <td>1.473</td>\n",
       "      <td>2.311</td>\n",
       "      <td>3.179</td>\n",
       "      <td>2.666</td>\n",
       "      <td>0.27950</td>\n",
       "      <td>0.27710</td>\n",
       "      <td>0.22340</td>\n",
       "      <td>0.18550</td>\n",
       "      <td>0.2539</td>\n",
       "      <td>1.138</td>\n",
       "      <td>1.1110</td>\n",
       "      <td>4.712</td>\n",
       "      <td>one</td>\n",
       "    </tr>\n",
       "    <tr>\n",
       "      <th>1</th>\n",
       "      <td>1.460</td>\n",
       "      <td>2.377</td>\n",
       "      <td>3.214</td>\n",
       "      <td>2.920</td>\n",
       "      <td>0.25270</td>\n",
       "      <td>0.30640</td>\n",
       "      <td>0.02563</td>\n",
       "      <td>0.19650</td>\n",
       "      <td>0.3027</td>\n",
       "      <td>1.213</td>\n",
       "      <td>1.0270</td>\n",
       "      <td>5.463</td>\n",
       "      <td>one</td>\n",
       "    </tr>\n",
       "    <tr>\n",
       "      <th>2</th>\n",
       "      <td>1.552</td>\n",
       "      <td>2.164</td>\n",
       "      <td>3.064</td>\n",
       "      <td>2.745</td>\n",
       "      <td>0.28200</td>\n",
       "      <td>0.21000</td>\n",
       "      <td>0.17210</td>\n",
       "      <td>0.19290</td>\n",
       "      <td>0.2100</td>\n",
       "      <td>1.221</td>\n",
       "      <td>1.0580</td>\n",
       "      <td>5.332</td>\n",
       "      <td>one</td>\n",
       "    </tr>\n",
       "    <tr>\n",
       "      <th>3</th>\n",
       "      <td>1.605</td>\n",
       "      <td>2.228</td>\n",
       "      <td>3.149</td>\n",
       "      <td>2.834</td>\n",
       "      <td>0.29170</td>\n",
       "      <td>0.36130</td>\n",
       "      <td>0.20870</td>\n",
       "      <td>0.12940</td>\n",
       "      <td>0.2734</td>\n",
       "      <td>1.144</td>\n",
       "      <td>1.0620</td>\n",
       "      <td>4.829</td>\n",
       "      <td>one</td>\n",
       "    </tr>\n",
       "    <tr>\n",
       "      <th>4</th>\n",
       "      <td>1.534</td>\n",
       "      <td>2.114</td>\n",
       "      <td>3.309</td>\n",
       "      <td>2.976</td>\n",
       "      <td>0.21000</td>\n",
       "      <td>0.25020</td>\n",
       "      <td>0.22580</td>\n",
       "      <td>0.17700</td>\n",
       "      <td>0.2039</td>\n",
       "      <td>1.254</td>\n",
       "      <td>1.1120</td>\n",
       "      <td>5.734</td>\n",
       "      <td>one</td>\n",
       "    </tr>\n",
       "    <tr>\n",
       "      <th>6</th>\n",
       "      <td>1.566</td>\n",
       "      <td>2.323</td>\n",
       "      <td>3.469</td>\n",
       "      <td>2.711</td>\n",
       "      <td>0.24170</td>\n",
       "      <td>0.05371</td>\n",
       "      <td>0.21120</td>\n",
       "      <td>-0.02686</td>\n",
       "      <td>0.2197</td>\n",
       "      <td>1.158</td>\n",
       "      <td>0.9924</td>\n",
       "      <td>4.780</td>\n",
       "      <td>one</td>\n",
       "    </tr>\n",
       "    <tr>\n",
       "      <th>7</th>\n",
       "      <td>1.425</td>\n",
       "      <td>2.152</td>\n",
       "      <td>3.287</td>\n",
       "      <td>2.781</td>\n",
       "      <td>0.29910</td>\n",
       "      <td>0.20750</td>\n",
       "      <td>0.10380</td>\n",
       "      <td>0.11470</td>\n",
       "      <td>0.2698</td>\n",
       "      <td>1.271</td>\n",
       "      <td>1.1150</td>\n",
       "      <td>5.662</td>\n",
       "      <td>one</td>\n",
       "    </tr>\n",
       "    <tr>\n",
       "      <th>8</th>\n",
       "      <td>1.595</td>\n",
       "      <td>2.271</td>\n",
       "      <td>3.323</td>\n",
       "      <td>2.743</td>\n",
       "      <td>0.17330</td>\n",
       "      <td>0.19650</td>\n",
       "      <td>0.16850</td>\n",
       "      <td>0.05859</td>\n",
       "      <td>0.2051</td>\n",
       "      <td>1.290</td>\n",
       "      <td>1.0330</td>\n",
       "      <td>5.145</td>\n",
       "      <td>one</td>\n",
       "    </tr>\n",
       "    <tr>\n",
       "      <th>9</th>\n",
       "      <td>1.628</td>\n",
       "      <td>2.211</td>\n",
       "      <td>3.176</td>\n",
       "      <td>2.710</td>\n",
       "      <td>0.08423</td>\n",
       "      <td>0.18920</td>\n",
       "      <td>0.27830</td>\n",
       "      <td>0.16850</td>\n",
       "      <td>0.3491</td>\n",
       "      <td>1.155</td>\n",
       "      <td>1.0080</td>\n",
       "      <td>5.613</td>\n",
       "      <td>one</td>\n",
       "    </tr>\n",
       "    <tr>\n",
       "      <th>10</th>\n",
       "      <td>1.583</td>\n",
       "      <td>2.253</td>\n",
       "      <td>3.278</td>\n",
       "      <td>2.854</td>\n",
       "      <td>0.14890</td>\n",
       "      <td>0.10990</td>\n",
       "      <td>0.22830</td>\n",
       "      <td>0.07324</td>\n",
       "      <td>0.2173</td>\n",
       "      <td>1.135</td>\n",
       "      <td>1.1120</td>\n",
       "      <td>5.549</td>\n",
       "      <td>one</td>\n",
       "    </tr>\n",
       "  </tbody>\n",
       "</table>\n",
       "</div>"
      ],
      "text/plain": [
       "    Input 1  Input 2  Input 3  Input 4  Input 5  Input 6  Input 7  Input 8  \\\n",
       "0     1.473    2.311    3.179    2.666  0.27950  0.27710  0.22340  0.18550   \n",
       "1     1.460    2.377    3.214    2.920  0.25270  0.30640  0.02563  0.19650   \n",
       "2     1.552    2.164    3.064    2.745  0.28200  0.21000  0.17210  0.19290   \n",
       "3     1.605    2.228    3.149    2.834  0.29170  0.36130  0.20870  0.12940   \n",
       "4     1.534    2.114    3.309    2.976  0.21000  0.25020  0.22580  0.17700   \n",
       "6     1.566    2.323    3.469    2.711  0.24170  0.05371  0.21120 -0.02686   \n",
       "7     1.425    2.152    3.287    2.781  0.29910  0.20750  0.10380  0.11470   \n",
       "8     1.595    2.271    3.323    2.743  0.17330  0.19650  0.16850  0.05859   \n",
       "9     1.628    2.211    3.176    2.710  0.08423  0.18920  0.27830  0.16850   \n",
       "10    1.583    2.253    3.278    2.854  0.14890  0.10990  0.22830  0.07324   \n",
       "\n",
       "    Input 9  Input 10  Input 11  Input 12 class  \n",
       "0    0.2539     1.138    1.1110     4.712   one  \n",
       "1    0.3027     1.213    1.0270     5.463   one  \n",
       "2    0.2100     1.221    1.0580     5.332   one  \n",
       "3    0.2734     1.144    1.0620     4.829   one  \n",
       "4    0.2039     1.254    1.1120     5.734   one  \n",
       "6    0.2197     1.158    0.9924     4.780   one  \n",
       "7    0.2698     1.271    1.1150     5.662   one  \n",
       "8    0.2051     1.290    1.0330     5.145   one  \n",
       "9    0.3491     1.155    1.0080     5.613   one  \n",
       "10   0.2173     1.135    1.1120     5.549   one  "
      ]
     },
     "execution_count": 5,
     "metadata": {},
     "output_type": "execute_result"
    }
   ],
   "source": [
    "#Enter your code in the cell below to implement the drop, replace and display.\n",
    "df = df.replace(-9999.0, np.nan)\n",
    "df = df.dropna()\n",
    "df.head(10)"
   ]
  },
  {
   "cell_type": "code",
   "execution_count": 6,
   "id": "2f4ccc17",
   "metadata": {},
   "outputs": [
    {
     "data": {
      "text/plain": [
       "(1826, 13)"
      ]
     },
     "execution_count": 6,
     "metadata": {},
     "output_type": "execute_result"
    }
   ],
   "source": [
    "# shape of data in dataframe after cleansing\n",
    "df.shape"
   ]
  },
  {
   "cell_type": "markdown",
   "id": "e232cd9e",
   "metadata": {},
   "source": [
    "### TO DO: Use pandas correlation method to find the two features (inputs) with the highest correlation"
   ]
  },
  {
   "cell_type": "code",
   "execution_count": 7,
   "id": "25e898ae",
   "metadata": {},
   "outputs": [
    {
     "name": "stdout",
     "output_type": "stream",
     "text": [
      "           Input 1   Input 2   Input 3   Input 4   Input 5   Input 6  \\\n",
      "Input 1   1.000000  0.527248  0.932390  0.938750  0.748763  0.900299   \n",
      "Input 2   0.527248  1.000000  0.463356  0.505046  0.416400  0.614186   \n",
      "Input 3   0.932390  0.463356  1.000000  0.884079  0.643788  0.813403   \n",
      "Input 4   0.938750  0.505046  0.884079  1.000000  0.812194  0.877337   \n",
      "Input 5   0.748763  0.416400  0.643788  0.812194  1.000000  0.834460   \n",
      "Input 6   0.900299  0.614186  0.813403  0.877337  0.834460  1.000000   \n",
      "Input 7   0.701600  0.426394  0.596152  0.734622  0.905794  0.772869   \n",
      "Input 8   0.675776  0.437816  0.574708  0.727402  0.901688  0.764765   \n",
      "Input 9   0.722770  0.435743  0.630974  0.802189  0.972590  0.825776   \n",
      "Input 10  0.692099  0.449897  0.605835  0.764233  0.885527  0.827059   \n",
      "Input 11  0.464854  0.352147  0.403812  0.537204  0.742445  0.657962   \n",
      "Input 12  0.160311  0.091390  0.160420  0.159417  0.183917  0.181238   \n",
      "\n",
      "           Input 7   Input 8   Input 9  Input 10  Input 11  Input 12  \n",
      "Input 1   0.701600  0.675776  0.722770  0.692099  0.464854  0.160311  \n",
      "Input 2   0.426394  0.437816  0.435743  0.449897  0.352147  0.091390  \n",
      "Input 3   0.596152  0.574708  0.630974  0.605835  0.403812  0.160420  \n",
      "Input 4   0.734622  0.727402  0.802189  0.764233  0.537204  0.159417  \n",
      "Input 5   0.905794  0.901688  0.972590  0.885527  0.742445  0.183917  \n",
      "Input 6   0.772869  0.764765  0.825776  0.827059  0.657962  0.181238  \n",
      "Input 7   1.000000  0.944429  0.845032  0.810357  0.536046  0.225150  \n",
      "Input 8   0.944429  1.000000  0.858171  0.815908  0.566306  0.234747  \n",
      "Input 9   0.845032  0.858171  1.000000  0.880231  0.805716  0.192808  \n",
      "Input 10  0.810357  0.815908  0.880231  1.000000  0.720474  0.168878  \n",
      "Input 11  0.536046  0.566306  0.805716  0.720474  1.000000  0.058959  \n",
      "Input 12  0.225150  0.234747  0.192808  0.168878  0.058959  1.000000  \n",
      "\n",
      "Inputs 9 and 5 are the most correlated with a correlation of 0.97259\n"
     ]
    }
   ],
   "source": [
    "#Enter your answers in the cell immediately following the output correlation table\n",
    "corrs = abs(df.corr(numeric_only=True))\n",
    "print(corrs)\n",
    "print()\n",
    "print(\"Inputs 9 and 5 are the most correlated with a correlation of 0.97259\")"
   ]
  },
  {
   "cell_type": "markdown",
   "id": "bd0b3ab3",
   "metadata": {},
   "source": [
    "## Data Visualization"
   ]
  },
  {
   "cell_type": "markdown",
   "id": "0248b59e",
   "metadata": {},
   "source": [
    "### TO DO: Plot bar charts using pandas dataframe (plot the mean value of the sensors)"
   ]
  },
  {
   "cell_type": "code",
   "execution_count": 8,
   "id": "b235dc1d",
   "metadata": {},
   "outputs": [
    {
     "name": "stdout",
     "output_type": "stream",
     "text": [
      "The mean values are: \n",
      "Input 1     3.680058\n",
      "Input 2     1.727913\n",
      "Input 3     5.009482\n",
      "Input 4     4.709107\n",
      "Input 5     1.015576\n",
      "Input 6     1.525255\n",
      "Input 7     0.700818\n",
      "Input 8     0.372550\n",
      "Input 9     0.904062\n",
      "Input 10    2.779109\n",
      "Input 11    1.886693\n",
      "Input 12    3.772419\n",
      "dtype: float64\n"
     ]
    },
    {
     "data": {
      "image/png": "[encoded data removed]",
      "text/plain": [
       "<Figure size 1200x500 with 1 Axes>"
      ]
     },
     "metadata": {},
     "output_type": "display_data"
    }
   ],
   "source": [
    "columns = df.columns.tolist()\n",
    "\n",
    "features = len(columns)-1\n",
    "columns = columns[:features]\n",
    "\n",
    "print('The mean values are: \\n{}'.format(df.mean(numeric_only=True)))\n",
    "\n",
    "mean_values = df[:].mean(numeric_only=True)\n",
    "\n",
    "plt.figure(figsize=(12, 5))\n",
    "plt.bar(columns, mean_values)\n",
    "plt.show()"
   ]
  },
  {
   "cell_type": "markdown",
   "id": "f3e67e15",
   "metadata": {},
   "source": [
    "## Data Preprocessing"
   ]
  },
  {
   "cell_type": "markdown",
   "id": "162ccfd8",
   "metadata": {},
   "source": [
    "### TO DO: Create Feature Matrix and Target Vector"
   ]
  },
  {
   "cell_type": "code",
   "execution_count": 9,
   "id": "b4001327",
   "metadata": {},
   "outputs": [
    {
     "name": "stdout",
     "output_type": "stream",
     "text": [
      "      Input 1  Input 2  Input 3  Input 4  Input 5  Input 6  Input 7  Input 8  \\\n",
      "0       1.473    2.311    3.179    2.666   0.2795   0.2771  0.22340  0.18550   \n",
      "1       1.460    2.377    3.214    2.920   0.2527   0.3064  0.02563  0.19650   \n",
      "2       1.552    2.164    3.064    2.745   0.2820   0.2100  0.17210  0.19290   \n",
      "3       1.605    2.228    3.149    2.834   0.2917   0.3613  0.20870  0.12940   \n",
      "4       1.534    2.114    3.309    2.976   0.2100   0.2502  0.22580  0.17700   \n",
      "...       ...      ...      ...      ...      ...      ...      ...      ...   \n",
      "2059    3.682    1.301    4.939    4.453   0.4895   0.7922  0.23190  0.05005   \n",
      "2060    3.412    1.293    4.949    4.199   0.4578   0.9521  0.21360  0.23070   \n",
      "2061    3.640    1.284    5.111    4.460   0.5786   0.8020  0.26980  0.31740   \n",
      "2062    3.746    1.261    5.049    4.885   0.5835   1.1470  0.32350  0.23070   \n",
      "2063    3.959    1.108    5.422    4.835   0.5579   1.3230  0.51510  0.21000   \n",
      "\n",
      "      Input 9  Input 10  Input 11  Input 12  \n",
      "0      0.2539     1.138     1.111     4.712  \n",
      "1      0.3027     1.213     1.027     5.463  \n",
      "2      0.2100     1.221     1.058     5.332  \n",
      "3      0.2734     1.144     1.062     4.829  \n",
      "4      0.2039     1.254     1.112     5.734  \n",
      "...       ...       ...       ...       ...  \n",
      "2059   0.3687     1.478     1.174     5.125  \n",
      "2060   0.4578     1.526     1.167     5.433  \n",
      "2061   0.4309     1.460     1.118     4.867  \n",
      "2062   0.4614     1.482     1.128     5.627  \n",
      "2063   0.5737     1.595     1.244     5.623  \n",
      "\n",
      "[1826 rows x 12 columns]\n",
      "0       one\n",
      "1       one\n",
      "2       one\n",
      "3       one\n",
      "4       one\n",
      "       ... \n",
      "2059    two\n",
      "2060    two\n",
      "2061    two\n",
      "2062    two\n",
      "2063    two\n",
      "Name: class, Length: 1826, dtype: object\n"
     ]
    }
   ],
   "source": [
    "# \"Features\" are also known as predictors, inputs, or attributes. The \"response\" is also known as the target, label, or output.\n",
    "X  =df.drop(columns=['class'])\n",
    "y = df['class']\n",
    "\n",
    "print(X)\n",
    "print(y)"
   ]
  },
  {
   "cell_type": "markdown",
   "id": "d4b677ab",
   "metadata": {},
   "source": [
    "### TO DO: Convert the features dataframe to a numpy array"
   ]
  },
  {
   "cell_type": "code",
   "execution_count": 10,
   "id": "d767dc9e",
   "metadata": {},
   "outputs": [
    {
     "data": {
      "text/plain": [
       "array([[1.473, 2.311, 3.179, ..., 1.138, 1.111, 4.712],\n",
       "       [1.46 , 2.377, 3.214, ..., 1.213, 1.027, 5.463],\n",
       "       [1.552, 2.164, 3.064, ..., 1.221, 1.058, 5.332],\n",
       "       ...,\n",
       "       [3.64 , 1.284, 5.111, ..., 1.46 , 1.118, 4.867],\n",
       "       [3.746, 1.261, 5.049, ..., 1.482, 1.128, 5.627],\n",
       "       [3.959, 1.108, 5.422, ..., 1.595, 1.244, 5.623]])"
      ]
     },
     "execution_count": 10,
     "metadata": {},
     "output_type": "execute_result"
    }
   ],
   "source": [
    "X.to_numpy()"
   ]
  },
  {
   "cell_type": "markdown",
   "id": "dcff8aff",
   "metadata": {},
   "source": [
    "### TO DO: Label Encoding"
   ]
  },
  {
   "cell_type": "code",
   "execution_count": 11,
   "id": "5d89545d",
   "metadata": {},
   "outputs": [
    {
     "name": "stdout",
     "output_type": "stream",
     "text": [
      "The categorical classes are ['one' 'three' 'two']\n",
      "\n",
      "500 sample encoded values:\n",
      "[0 0 0 0 0 0 0 0 0 0 0 0 0 0 0 0 0 0 0 0 0 0 0 0 0 0 0 0 0 0 0 0 0 0 0 0 0\n",
      " 0 0 0 0 0 0 0 0 0 0 0 0 0 0 0 0 0 0 0 0 0 0 0 0 0 0 0 0 0 0 0 0 0 0 0 0 0\n",
      " 0 0 0 0 0 0 0 0 0 0 0 0 0 0 0 0 0 0 0 0 0 0 0 0 0 0 0 0 0 0 0 0 0 0 0 0 0\n",
      " 0 0 0 0 0 0 0 0 0 0 0 0 0 0 0 0 0 0 0 0 0 0 0 0 0 0 0 0 0 0 0 0 0 0 0 0 0\n",
      " 0 0 0 0 0 0 0 0 0 0 0 0 0 0 0 0 0 0 0 0 0 0 0 0 0 0 0 0 0 0 0 0 0 0 0 0 0\n",
      " 0 0 0 0 0 0 0 0 0 0 0 0 0 0 0 0 0 0 0 0 0 0 0 0 0 0 0 0 0 0 0 0 0 0 0 0 0\n",
      " 0 0 0 0 0 0 0 0 0 0 0 0 0 0 0 0 0 0 0 0 0 0 0 0 0 0 0 0 0 0 0 0 0 0 0 0 0\n",
      " 0 0 0 0 0 0 0 0 0 0 0 0 0 0 0 0 0 0 0 0 0 0 0 0 0 0 0 0 0 0 0 0 0 0 0 0 0\n",
      " 0 0 0 0 0 0 0 0 0 0 0 0 0 0 0 0 0 0 0 0 0 0 0 0 0 0 0 0 0 0 0 0 0 0 0 0 0\n",
      " 0 0 0 0 0 0 0 0 0 0 0 0 0 0 0 0 0 0 0 0 0 0 0 0 0 0 0 0 0 0 0 0 0 0 0 0 0\n",
      " 0 0 0 0 0 0 0 0 0 0 0 0 0 0 0 0 0 0 0 0 0 0 0 0 0 0 0 0 0 0 0 0 0 0 0 0 0\n",
      " 0 0 0 0 0 0 0 0 0 0 0 2 2 2 2 2 2 2 2 2 2 2 2 2 2 2 2 2 2 2 2 2 2 2 2 2 2\n",
      " 2 2 2 2 2 2 2 2 2 2 2 2 2 2 2 2 2 2 2 2 2 2 2 2 2 2 2 2 2 2 2 2 2 2 2 2 2\n",
      " 2 2 2 2 2 2 2 2 2 2 2 2 2 2 2 2 2 2 2]\n",
      "\n",
      "encoded shape: (1826,)\n"
     ]
    }
   ],
   "source": [
    "# Transform the categorical labels into integers using the scikit-learn label encoder\n",
    "from sklearn.preprocessing import LabelEncoder\n",
    "\n",
    "#Instanciate integer encoder\n",
    "label_encoder = LabelEncoder()\n",
    "\n",
    "#encode the class labels \n",
    "label_encoder.fit(y)\n",
    "y_encoded = label_encoder.transform(y)\n",
    "\n",
    "#print the categorical class labels we encoded (note the underscore!)\n",
    "print('The categorical classes are {}\\n'.format(label_encoder.classes_))\n",
    "\n",
    "#print a few encoded values using python slice\n",
    "print('500 sample encoded values:')\n",
    "print(y_encoded[slice(500)])\n",
    "\n",
    "#print the shape of the ecoded classes\n",
    "print('\\nencoded shape:', y_encoded.shape)"
   ]
  },
  {
   "cell_type": "markdown",
   "id": "ca46d19d",
   "metadata": {},
   "source": [
    "### TO DO: Split the data into Training and Testing Sets"
   ]
  },
  {
   "cell_type": "code",
   "execution_count": 12,
   "id": "3d1e674c",
   "metadata": {},
   "outputs": [],
   "source": [
    "from sklearn.model_selection import train_test_split\n",
    "\n",
    "#Use a 80% / 20% train/test split for this project.\n",
    "#NOTE: You must use the encoded class labels in this part\n",
    "\n",
    "X_train, X_test, y_train, y_test = train_test_split(X,y_encoded,test_size=.20, random_state=0)"
   ]
  },
  {
   "cell_type": "markdown",
   "id": "47b66560",
   "metadata": {},
   "source": [
    "### TO DO:Look at the shape of the data (rows and columns) after splitting it into training and testing sets"
   ]
  },
  {
   "cell_type": "code",
   "execution_count": 13,
   "id": "49df05b2",
   "metadata": {},
   "outputs": [
    {
     "name": "stdout",
     "output_type": "stream",
     "text": [
      "The shape of X_train: (1460, 12)\n",
      "The shape of y_train: (1460,)\n"
     ]
    }
   ],
   "source": [
    "# Train\n",
    "\n",
    "print('The shape of X_train: {}'.format(X_train.shape))\n",
    "print('The shape of y_train: {}'.format(y_train.shape))"
   ]
  },
  {
   "cell_type": "code",
   "execution_count": 14,
   "id": "1e7141ea",
   "metadata": {},
   "outputs": [
    {
     "name": "stdout",
     "output_type": "stream",
     "text": [
      "The shape of X_test: (366, 12)\n",
      "The shape of y_test: (366,)\n"
     ]
    }
   ],
   "source": [
    "# Test\n",
    "print('The shape of X_test: {}'.format(X_test.shape))\n",
    "print('The shape of y_test: {}'.format(y_test.shape))"
   ]
  },
  {
   "cell_type": "markdown",
   "id": "e61cce8c",
   "metadata": {},
   "source": [
    "## Scale The Data"
   ]
  },
  {
   "cell_type": "markdown",
   "id": "78e9ac01",
   "metadata": {},
   "source": [
    "### TO DO: Let's use the StandarScaler from Scikit-learn to transform (scale) our feature"
   ]
  },
  {
   "cell_type": "code",
   "execution_count": 15,
   "id": "caac9192",
   "metadata": {},
   "outputs": [],
   "source": [
    "# Standardizing the Features\n",
    "from sklearn.preprocessing import StandardScaler\n",
    "\n",
    "sc = StandardScaler()\n",
    "sc.fit(X_train)\n",
    "X_train_std = sc.transform(X_train)\n",
    "X_test_std = sc.transform(X_test)\n",
    "\n",
    "# from this point forward you must use the scaled training and testing data"
   ]
  },
  {
   "cell_type": "markdown",
   "id": "bcd2108c",
   "metadata": {},
   "source": [
    "## Model Building"
   ]
  },
  {
   "cell_type": "markdown",
   "id": "77b468cd",
   "metadata": {},
   "source": [
    "Algorithms being used: \n",
    "1. K-Nearest Neighbor (with K=10, K=50, K=200)\n",
    "2. Logistic Regression\n",
    "3. Linear Support Vector Classifier\n"
   ]
  },
  {
   "cell_type": "markdown",
   "id": "f72f9b88",
   "metadata": {},
   "source": [
    "## Build a KNN Classification Model for K = 10, 50 and 200"
   ]
  },
  {
   "cell_type": "markdown",
   "id": "60bca5b9",
   "metadata": {},
   "source": [
    "### TO DO: In the sections below you should build and train the actual machine learning model."
   ]
  },
  {
   "cell_type": "code",
   "execution_count": 16,
   "id": "bb2f28b5",
   "metadata": {},
   "outputs": [
    {
     "name": "stdout",
     "output_type": "stream",
     "text": [
      "KNN: 200\n",
      "Test accuracy: 0.86\n",
      "\n",
      "KNN: 10\n",
      "Test accuracy: 0.98\n",
      "\n",
      "KNN: 50\n",
      "Test accuracy: 0.96\n",
      "\n"
     ]
    }
   ],
   "source": [
    "# In the cell below: enter the code to import, instantiate, fit, \n",
    "from sklearn.neighbors import KNeighborsClassifier\n",
    "from sklearn import metrics\n",
    "\n",
    "#predict and test the model's performance (accuracy) for the K-Nearest Neighbor Model in SciKit-Learn for K= 10, 50 and 200. \n",
    "#!!! This should be completed in ONE cell using a loop, etc. !!!!\n",
    "\n",
    "knn_loop = {10,50,200}\n",
    "\n",
    "for i in knn_loop:\n",
    "    knn = KNeighborsClassifier(n_neighbors=i)\n",
    "    knn.fit(X_train_std,y_train)\n",
    "    y_pred = knn.predict(X_test_std)\n",
    "    print('KNN: {}'.format(i))\n",
    "    print('Test accuracy: {0:0.2f}\\n'.format(knn.score(X_test_std,y_test)))\n",
    "    \n",
    "\n",
    "\n"
   ]
  },
  {
   "cell_type": "markdown",
   "id": "c8e17fd4",
   "metadata": {},
   "source": [
    "### Predicting class-membership probabilities"
   ]
  },
  {
   "cell_type": "code",
   "execution_count": 17,
   "id": "61d1c4a8",
   "metadata": {},
   "outputs": [
    {
     "data": {
      "text/plain": [
       "array([[0., 1., 0.],\n",
       "       [0., 1., 0.],\n",
       "       [1., 0., 0.]])"
      ]
     },
     "execution_count": 17,
     "metadata": {},
     "output_type": "execute_result"
    }
   ],
   "source": [
    "knn.predict_proba(X_test_std[:3, :])"
   ]
  },
  {
   "cell_type": "markdown",
   "id": "26700cf7",
   "metadata": {},
   "source": [
    "### TO DO:class-membership probability index = 10 "
   ]
  },
  {
   "cell_type": "code",
   "execution_count": 18,
   "id": "2f18e4cd",
   "metadata": {},
   "outputs": [
    {
     "name": "stdout",
     "output_type": "stream",
     "text": [
      "KNN: 200\n",
      "There is a 18.0% chance that X_test 10  belongs to class 0\n",
      "There is a 0.0% chance that X_test 10  belongs to class 1\n",
      "There is a 82.0% chance that X_test 10  belongs to class 2\n",
      "\n",
      "KNN: 10\n",
      "There is a 0.0% chance that X_test 10  belongs to class 0\n",
      "There is a 0.0% chance that X_test 10  belongs to class 1\n",
      "There is a 100.0% chance that X_test 10  belongs to class 2\n",
      "\n",
      "KNN: 50\n",
      "There is a 0.0% chance that X_test 10  belongs to class 0\n",
      "There is a 0.0% chance that X_test 10  belongs to class 1\n",
      "There is a 100.0% chance that X_test 10  belongs to class 2\n",
      "\n",
      "True Value: 2\n"
     ]
    }
   ],
   "source": [
    "#Predict the class membership probability by using the a row with index = 10 from the X_test_std data. \n",
    "\n",
    "#Make sure your print statement uses a complete sentence and be sure to compare your prediction with the correct answer using the corresponding row from the test set labels, y_test\n",
    "\n",
    "for i in knn_loop:\n",
    "    index = 10\n",
    "    knn = KNeighborsClassifier(n_neighbors=i)\n",
    "    knn.fit(X_train_std,y_train)\n",
    "    print('KNN: {}'.format(i))\n",
    "    print('There is a {}% chance that X_test {}  belongs to class 0'.format(knn.predict_proba(X_test_std)[index][0]*100,index))\n",
    "    print('There is a {}% chance that X_test {}  belongs to class 1'.format(knn.predict_proba(X_test_std)[index][1]*100,index))\n",
    "    print('There is a {}% chance that X_test {}  belongs to class 2'.format(knn.predict_proba(X_test_std)[index][2]*100,index))\n",
    "    print()\n",
    "print('True Value: {}'.format(y_test[index]))\n",
    "    \n",
    "    "
   ]
  },
  {
   "cell_type": "markdown",
   "id": "a5541c5b",
   "metadata": {},
   "source": [
    "### TO DO:class-membership probability index = 125"
   ]
  },
  {
   "cell_type": "code",
   "execution_count": 19,
   "id": "c74d7c92",
   "metadata": {},
   "outputs": [
    {
     "name": "stdout",
     "output_type": "stream",
     "text": [
      "KNN: 200\n",
      "There is a 3.0% chance that X_test 125  belongs to class 0\n",
      "There is a 0.0% chance that X_test 125  belongs to class 1\n",
      "There is a 97.0% chance that X_test 125  belongs to class 2\n",
      "\n",
      "KNN: 10\n",
      "There is a 0.0% chance that X_test 125  belongs to class 0\n",
      "There is a 0.0% chance that X_test 125  belongs to class 1\n",
      "There is a 100.0% chance that X_test 125  belongs to class 2\n",
      "\n",
      "KNN: 50\n",
      "There is a 0.0% chance that X_test 125  belongs to class 0\n",
      "There is a 0.0% chance that X_test 125  belongs to class 1\n",
      "There is a 100.0% chance that X_test 125  belongs to class 2\n",
      "\n",
      "True Value: 2\n"
     ]
    }
   ],
   "source": [
    "# Same steps as above\n",
    "for i in knn_loop:\n",
    "    index = 125\n",
    "    knn = KNeighborsClassifier(n_neighbors=i)\n",
    "    knn.fit(X_train_std,y_train)\n",
    "    print('KNN: {}'.format(i))\n",
    "    print('There is a {}% chance that X_test {}  belongs to class 0'.format(knn.predict_proba(X_test_std)[index][0]*100,index))\n",
    "    print('There is a {}% chance that X_test {}  belongs to class 1'.format(knn.predict_proba(X_test_std)[index][1]*100,index))\n",
    "    print('There is a {}% chance that X_test {}  belongs to class 2'.format(knn.predict_proba(X_test_std)[index][2]*100,index))\n",
    "    print()\n",
    "print('True Value: {}'.format(y_test[index]))\n",
    "    "
   ]
  },
  {
   "cell_type": "markdown",
   "id": "f987a005",
   "metadata": {},
   "source": [
    "### TO DO:class-membership probability index = 200"
   ]
  },
  {
   "cell_type": "code",
   "execution_count": 20,
   "id": "f3db779a",
   "metadata": {},
   "outputs": [
    {
     "name": "stdout",
     "output_type": "stream",
     "text": [
      "KNN: 200\n",
      "There is a 98.0% chance that X_test 200  belongs to class 0\n",
      "There is a 0.0% chance that X_test 200  belongs to class 1\n",
      "There is a 2.0% chance that X_test 200  belongs to class 2\n",
      "\n",
      "KNN: 10\n",
      "There is a 100.0% chance that X_test 200  belongs to class 0\n",
      "There is a 0.0% chance that X_test 200  belongs to class 1\n",
      "There is a 0.0% chance that X_test 200  belongs to class 2\n",
      "\n",
      "KNN: 50\n",
      "There is a 100.0% chance that X_test 200  belongs to class 0\n",
      "There is a 0.0% chance that X_test 200  belongs to class 1\n",
      "There is a 0.0% chance that X_test 200  belongs to class 2\n",
      "\n",
      "True Value: 0\n"
     ]
    }
   ],
   "source": [
    "# Same steps as above\n",
    "for i in knn_loop:\n",
    "    index = 200\n",
    "    knn = KNeighborsClassifier(n_neighbors=i)\n",
    "    knn.fit(X_train_std,y_train)\n",
    "    print('KNN: {}'.format(i))\n",
    "    print('There is a {}% chance that X_test {}  belongs to class 0'.format(knn.predict_proba(X_test_std)[index][0]*100,index))\n",
    "    print('There is a {}% chance that X_test {}  belongs to class 1'.format(knn.predict_proba(X_test_std)[index][1]*100,index))\n",
    "    print('There is a {}% chance that X_test {}  belongs to class 2'.format(knn.predict_proba(X_test_std)[index][2]*100,index))\n",
    "    print()\n",
    "print('True Value: {}'.format(y_test[index]))\n",
    "    "
   ]
  },
  {
   "cell_type": "markdown",
   "id": "41dbe523",
   "metadata": {},
   "source": [
    "## Build Logistic Regression Model"
   ]
  },
  {
   "cell_type": "markdown",
   "id": "dc3f91c7",
   "metadata": {},
   "source": [
    "### TO DO: scikit-learn Logistic Regression for this lab"
   ]
  },
  {
   "cell_type": "code",
   "execution_count": 21,
   "id": "68f7c99f",
   "metadata": {},
   "outputs": [],
   "source": [
    "# Import and instantiate the Logistic Regression Model in SciKit-Learn is in the cell below\n",
    "from sklearn.linear_model import LogisticRegression\n",
    "\n",
    "lr = LogisticRegression(solver='newton-cg', multi_class='multinomial',random_state=0)\n",
    "\n"
   ]
  },
  {
   "cell_type": "markdown",
   "id": "c2e7e1de",
   "metadata": {},
   "source": [
    "### TO DO: Train the model by calling the model's fit function"
   ]
  },
  {
   "cell_type": "code",
   "execution_count": 22,
   "id": "75590d60",
   "metadata": {},
   "outputs": [
    {
     "data": {
      "text/html": [
       "<style>#sk-container-id-1 {color: black;}#sk-container-id-1 pre{padding: 0;}#sk-container-id-1 div.sk-toggleable {background-color: white;}#sk-container-id-1 label.sk-toggleable__label {cursor: pointer;display: block;width: 100%;margin-bottom: 0;padding: 0.3em;box-sizing: border-box;text-align: center;}#sk-container-id-1 label.sk-toggleable__label-arrow:before {content: \"▸\";float: left;margin-right: 0.25em;color: #696969;}#sk-container-id-1 label.sk-toggleable__label-arrow:hover:before {color: black;}#sk-container-id-1 div.sk-estimator:hover label.sk-toggleable__label-arrow:before {color: black;}#sk-container-id-1 div.sk-toggleable__content {max-height: 0;max-width: 0;overflow: hidden;text-align: left;background-color: #f0f8ff;}#sk-container-id-1 div.sk-toggleable__content pre {margin: 0.2em;color: black;border-radius: 0.25em;background-color: #f0f8ff;}#sk-container-id-1 input.sk-toggleable__control:checked~div.sk-toggleable__content {max-height: 200px;max-width: 100%;overflow: auto;}#sk-container-id-1 input.sk-toggleable__control:checked~label.sk-toggleable__label-arrow:before {content: \"▾\";}#sk-container-id-1 div.sk-estimator input.sk-toggleable__control:checked~label.sk-toggleable__label {background-color: #d4ebff;}#sk-container-id-1 div.sk-label input.sk-toggleable__control:checked~label.sk-toggleable__label {background-color: #d4ebff;}#sk-container-id-1 input.sk-hidden--visually {border: 0;clip: rect(1px 1px 1px 1px);clip: rect(1px, 1px, 1px, 1px);height: 1px;margin: -1px;overflow: hidden;padding: 0;position: absolute;width: 1px;}#sk-container-id-1 div.sk-estimator {font-family: monospace;background-color: #f0f8ff;border: 1px dotted black;border-radius: 0.25em;box-sizing: border-box;margin-bottom: 0.5em;}#sk-container-id-1 div.sk-estimator:hover {background-color: #d4ebff;}#sk-container-id-1 div.sk-parallel-item::after {content: \"\";width: 100%;border-bottom: 1px solid gray;flex-grow: 1;}#sk-container-id-1 div.sk-label:hover label.sk-toggleable__label {background-color: #d4ebff;}#sk-container-id-1 div.sk-serial::before {content: \"\";position: absolute;border-left: 1px solid gray;box-sizing: border-box;top: 0;bottom: 0;left: 50%;z-index: 0;}#sk-container-id-1 div.sk-serial {display: flex;flex-direction: column;align-items: center;background-color: white;padding-right: 0.2em;padding-left: 0.2em;position: relative;}#sk-container-id-1 div.sk-item {position: relative;z-index: 1;}#sk-container-id-1 div.sk-parallel {display: flex;align-items: stretch;justify-content: center;background-color: white;position: relative;}#sk-container-id-1 div.sk-item::before, #sk-container-id-1 div.sk-parallel-item::before {content: \"\";position: absolute;border-left: 1px solid gray;box-sizing: border-box;top: 0;bottom: 0;left: 50%;z-index: -1;}#sk-container-id-1 div.sk-parallel-item {display: flex;flex-direction: column;z-index: 1;position: relative;background-color: white;}#sk-container-id-1 div.sk-parallel-item:first-child::after {align-self: flex-end;width: 50%;}#sk-container-id-1 div.sk-parallel-item:last-child::after {align-self: flex-start;width: 50%;}#sk-container-id-1 div.sk-parallel-item:only-child::after {width: 0;}#sk-container-id-1 div.sk-dashed-wrapped {border: 1px dashed gray;margin: 0 0.4em 0.5em 0.4em;box-sizing: border-box;padding-bottom: 0.4em;background-color: white;}#sk-container-id-1 div.sk-label label {font-family: monospace;font-weight: bold;display: inline-block;line-height: 1.2em;}#sk-container-id-1 div.sk-label-container {text-align: center;}#sk-container-id-1 div.sk-container {/* jupyter's `normalize.less` sets `[hidden] { display: none; }` but bootstrap.min.css set `[hidden] { display: none !important; }` so we also need the `!important` here to be able to override the default hidden behavior on the sphinx rendered scikit-learn.org. See: https://github.com/scikit-learn/scikit-learn/issues/21755 */display: inline-block !important;position: relative;}#sk-container-id-1 div.sk-text-repr-fallback {display: none;}</style><div id=\"sk-container-id-1\" class=\"sk-top-container\"><div class=\"sk-text-repr-fallback\"><pre>LogisticRegression(multi_class=&#x27;multinomial&#x27;, random_state=0,\n",
       "                   solver=&#x27;newton-cg&#x27;)</pre><b>In a Jupyter environment, please rerun this cell to show the HTML representation or trust the notebook. <br />On GitHub, the HTML representation is unable to render, please try loading this page with nbviewer.org.</b></div><div class=\"sk-container\" hidden><div class=\"sk-item\"><div class=\"sk-estimator sk-toggleable\"><input class=\"sk-toggleable__control sk-hidden--visually\" id=\"sk-estimator-id-1\" type=\"checkbox\" checked><label for=\"sk-estimator-id-1\" class=\"sk-toggleable__label sk-toggleable__label-arrow\">LogisticRegression</label><div class=\"sk-toggleable__content\"><pre>LogisticRegression(multi_class=&#x27;multinomial&#x27;, random_state=0,\n",
       "                   solver=&#x27;newton-cg&#x27;)</pre></div></div></div></div></div>"
      ],
      "text/plain": [
       "LogisticRegression(multi_class='multinomial', random_state=0,\n",
       "                   solver='newton-cg')"
      ]
     },
     "execution_count": 22,
     "metadata": {},
     "output_type": "execute_result"
    }
   ],
   "source": [
    "# Fit your dataset\n",
    "lr.fit(X_train_std,y_train)"
   ]
  },
  {
   "cell_type": "markdown",
   "id": "7aee86e3",
   "metadata": {},
   "source": [
    "### TO DO: Evaluate the Logistic Regression Model"
   ]
  },
  {
   "cell_type": "code",
   "execution_count": 23,
   "id": "1b9577a3",
   "metadata": {},
   "outputs": [
    {
     "name": "stdout",
     "output_type": "stream",
     "text": [
      "[1 1 0 0 1 1 0 2 0 0 2 2 2 0 1 0 2 0 1 2 1 0 2 2 0 0 2 1 1 0 2 2 2 0 2 0 0\n",
      " 0 2 2 0 1 0 1 1 1 2 2 1 0 1 1 0 0 1 0 2 2 0 0 0 2 0 0 2 2 0 2 0 2 0 1 0 0\n",
      " 2 1 0 0 2 1 1 0 1 2 2 0 2 2 1 0 0 0 2 2 0 2 0 2 2 2 0 1 0 2 0 2 2 0 1 2 2\n",
      " 2 0 0 0 0 1 0 2 0 1 1 0 0 2 2 2 1 2 0 0 1 0 1 2 0 2 2 2 1 2 2 0 2 2 2 2 2\n",
      " 0 0 0 2 2 0 2 2 2 2 2 0 2 0 0 2 0 2 0 2 1 0 2 2 2 2 0 2 2 0 2 2 0 2 1 1 1\n",
      " 2 0 0 2 2 2 0 0 0 0 2 2 1 1 0 0 0 0 2 2 1 0 0 0 1 0 2 1 0 1 2 0 0 0 2 2 0\n",
      " 2 2 1 0 2 0 0 1 0 0 2 0 2 0 2 0 2 2 0 2 1 1 0 2 0 1 0 2 1 2 2 0 0 0 1 0 2\n",
      " 2 0 1 0 1 0 1 2 2 2 0 0 0 0 2 0 2 0 1 0 1 1 0 2 0 2 2 1 2 2 1 2 0 2 1 1 2\n",
      " 1 0 1 1 0 1 1 1 2 2 0 0 1 0 0 2 1 2 2 2 2 2 2 0 1 0 1 1 0 2 0 1 2 0 2 2 2\n",
      " 0 1 1 0 2 1 0 2 0 1 0 2 1 2 0 1 2 2 0 1 2 0 2 0 0 0 1 0 0 2 2 0 0]\n"
     ]
    }
   ],
   "source": [
    "# create the model's predictions. Name the prediction vector y_pred\n",
    "y_pred = lr.predict(X_test_std)\n",
    "print(y_pred)"
   ]
  },
  {
   "cell_type": "markdown",
   "id": "9e504269",
   "metadata": {},
   "source": [
    "### TO DO: Evaluate the Logistic Regression Model's Performance"
   ]
  },
  {
   "cell_type": "code",
   "execution_count": 24,
   "id": "c56b722f",
   "metadata": {},
   "outputs": [
    {
     "name": "stdout",
     "output_type": "stream",
     "text": [
      "Num Missclassified: 10\n",
      "Accuracy: 0.9726775956284153\n"
     ]
    }
   ],
   "source": [
    "# Use SciKit Learn's built-in scoring method to evaluate the model's performance accuracy\n",
    "print('Num Missclassified: {}'.format((y_pred != y_test).sum()))\n",
    "print('Accuracy: {}'.format(metrics.accuracy_score(y_test,y_pred)))"
   ]
  },
  {
   "cell_type": "markdown",
   "id": "7a99c773",
   "metadata": {},
   "source": [
    "## Predicting class-membership probabilities using the Logistic Regression Model"
   ]
  },
  {
   "cell_type": "markdown",
   "id": "21ce3abe",
   "metadata": {},
   "source": [
    "### TO DO:class-membership probability index = 10"
   ]
  },
  {
   "cell_type": "code",
   "execution_count": 25,
   "id": "cefcec61",
   "metadata": {},
   "outputs": [
    {
     "name": "stdout",
     "output_type": "stream",
     "text": [
      "There is a 10.90% chance that X_test 10  belongs to class 0\n",
      "There is a 0.02% chance that X_test 10  belongs to class 1\n",
      "There is a 89.08% chance that X_test 10  belongs to class 2\n",
      "\n",
      "True Value: 2\n"
     ]
    }
   ],
   "source": [
    "#Predict the class membership probability by using the a row with index = 10 from the X_test_std data. \n",
    "\n",
    "#Make sure your print statement uses a complete sentence and be sure to compare your prediction with the correct answer using the corresponding row from the test set labels, y_test.\n",
    "index = 10\n",
    "\n",
    "print('There is a {:.2f}% chance that X_test {}  belongs to class 0'.format(lr.predict_proba(X_test_std)[index][0]*100,index))\n",
    "print('There is a {:.2f}% chance that X_test {}  belongs to class 1'.format(lr.predict_proba(X_test_std)[index][1]*100,index))\n",
    "print('There is a {:.2f}% chance that X_test {}  belongs to class 2'.format(lr.predict_proba(X_test_std)[index][2]*100,index))\n",
    "print()\n",
    "print('True Value: {}'.format(y_test[index]))"
   ]
  },
  {
   "cell_type": "markdown",
   "id": "15e54710",
   "metadata": {},
   "source": [
    "### TO DO:class-membership probability index = 130"
   ]
  },
  {
   "cell_type": "code",
   "execution_count": 26,
   "id": "f4841895",
   "metadata": {},
   "outputs": [
    {
     "name": "stdout",
     "output_type": "stream",
     "text": [
      "There is a 98.01% chance that X_test 130  belongs to class 0\n",
      "There is a 0.00% chance that X_test 130  belongs to class 1\n",
      "There is a 1.99% chance that X_test 130  belongs to class 2\n",
      "\n",
      "True Value: 0\n"
     ]
    }
   ],
   "source": [
    "# Same steps as above\n",
    "index = 130\n",
    "\n",
    "print('There is a {:.2f}% chance that X_test {}  belongs to class 0'.format(lr.predict_proba(X_test_std)[index][0]*100,index))\n",
    "print('There is a {:.2f}% chance that X_test {}  belongs to class 1'.format(lr.predict_proba(X_test_std)[index][1]*100,index))\n",
    "print('There is a {:.2f}% chance that X_test {}  belongs to class 2'.format(lr.predict_proba(X_test_std)[index][2]*100,index))\n",
    "print()\n",
    "print('True Value: {}'.format(y_test[index]))"
   ]
  },
  {
   "cell_type": "markdown",
   "id": "fba83cc1",
   "metadata": {},
   "source": [
    "### TO DO:class-membership probability index = 200"
   ]
  },
  {
   "cell_type": "code",
   "execution_count": 27,
   "id": "369fe6e3",
   "metadata": {},
   "outputs": [
    {
     "name": "stdout",
     "output_type": "stream",
     "text": [
      "There is a 87.00% chance that X_test 200  belongs to class 0\n",
      "There is a 0.00% chance that X_test 200  belongs to class 1\n",
      "There is a 13.00% chance that X_test 200  belongs to class 2\n",
      "\n",
      "True Value: 0\n"
     ]
    }
   ],
   "source": [
    "# Same Steps as above\n",
    "index = 200\n",
    "\n",
    "print('There is a {:.2f}% chance that X_test {}  belongs to class 0'.format(lr.predict_proba(X_test_std)[index][0]*100,index))\n",
    "print('There is a {:.2f}% chance that X_test {}  belongs to class 1'.format(lr.predict_proba(X_test_std)[index][1]*100,index))\n",
    "print('There is a {:.2f}% chance that X_test {}  belongs to class 2'.format(lr.predict_proba(X_test_std)[index][2]*100,index))\n",
    "print()\n",
    "print('True Value: {}'.format(y_test[index]))"
   ]
  },
  {
   "cell_type": "markdown",
   "id": "4896f559",
   "metadata": {},
   "source": [
    "## Build Linear Support Vector Classifier Model"
   ]
  },
  {
   "cell_type": "markdown",
   "id": "8ff64d43",
   "metadata": {},
   "source": [
    "### TO DO:scikit-learn Linear Support Vector Classifier for this lab"
   ]
  },
  {
   "cell_type": "code",
   "execution_count": 28,
   "id": "9d67b9ea",
   "metadata": {},
   "outputs": [],
   "source": [
    "# Import and instantiate the Linear Support Vector Classifier Model in SciKit-Learn\n",
    "from sklearn.svm import LinearSVC\n",
    "\n",
    "# Instantiate the Linear SVC model\n",
    "svc = LinearSVC(dual=False)"
   ]
  },
  {
   "cell_type": "markdown",
   "id": "560ba219",
   "metadata": {},
   "source": [
    "### TO DO: Train the model by calling the model's fit function"
   ]
  },
  {
   "cell_type": "code",
   "execution_count": 29,
   "id": "b5eba632",
   "metadata": {},
   "outputs": [
    {
     "data": {
      "text/html": [
       "<style>#sk-container-id-2 {color: black;}#sk-container-id-2 pre{padding: 0;}#sk-container-id-2 div.sk-toggleable {background-color: white;}#sk-container-id-2 label.sk-toggleable__label {cursor: pointer;display: block;width: 100%;margin-bottom: 0;padding: 0.3em;box-sizing: border-box;text-align: center;}#sk-container-id-2 label.sk-toggleable__label-arrow:before {content: \"▸\";float: left;margin-right: 0.25em;color: #696969;}#sk-container-id-2 label.sk-toggleable__label-arrow:hover:before {color: black;}#sk-container-id-2 div.sk-estimator:hover label.sk-toggleable__label-arrow:before {color: black;}#sk-container-id-2 div.sk-toggleable__content {max-height: 0;max-width: 0;overflow: hidden;text-align: left;background-color: #f0f8ff;}#sk-container-id-2 div.sk-toggleable__content pre {margin: 0.2em;color: black;border-radius: 0.25em;background-color: #f0f8ff;}#sk-container-id-2 input.sk-toggleable__control:checked~div.sk-toggleable__content {max-height: 200px;max-width: 100%;overflow: auto;}#sk-container-id-2 input.sk-toggleable__control:checked~label.sk-toggleable__label-arrow:before {content: \"▾\";}#sk-container-id-2 div.sk-estimator input.sk-toggleable__control:checked~label.sk-toggleable__label {background-color: #d4ebff;}#sk-container-id-2 div.sk-label input.sk-toggleable__control:checked~label.sk-toggleable__label {background-color: #d4ebff;}#sk-container-id-2 input.sk-hidden--visually {border: 0;clip: rect(1px 1px 1px 1px);clip: rect(1px, 1px, 1px, 1px);height: 1px;margin: -1px;overflow: hidden;padding: 0;position: absolute;width: 1px;}#sk-container-id-2 div.sk-estimator {font-family: monospace;background-color: #f0f8ff;border: 1px dotted black;border-radius: 0.25em;box-sizing: border-box;margin-bottom: 0.5em;}#sk-container-id-2 div.sk-estimator:hover {background-color: #d4ebff;}#sk-container-id-2 div.sk-parallel-item::after {content: \"\";width: 100%;border-bottom: 1px solid gray;flex-grow: 1;}#sk-container-id-2 div.sk-label:hover label.sk-toggleable__label {background-color: #d4ebff;}#sk-container-id-2 div.sk-serial::before {content: \"\";position: absolute;border-left: 1px solid gray;box-sizing: border-box;top: 0;bottom: 0;left: 50%;z-index: 0;}#sk-container-id-2 div.sk-serial {display: flex;flex-direction: column;align-items: center;background-color: white;padding-right: 0.2em;padding-left: 0.2em;position: relative;}#sk-container-id-2 div.sk-item {position: relative;z-index: 1;}#sk-container-id-2 div.sk-parallel {display: flex;align-items: stretch;justify-content: center;background-color: white;position: relative;}#sk-container-id-2 div.sk-item::before, #sk-container-id-2 div.sk-parallel-item::before {content: \"\";position: absolute;border-left: 1px solid gray;box-sizing: border-box;top: 0;bottom: 0;left: 50%;z-index: -1;}#sk-container-id-2 div.sk-parallel-item {display: flex;flex-direction: column;z-index: 1;position: relative;background-color: white;}#sk-container-id-2 div.sk-parallel-item:first-child::after {align-self: flex-end;width: 50%;}#sk-container-id-2 div.sk-parallel-item:last-child::after {align-self: flex-start;width: 50%;}#sk-container-id-2 div.sk-parallel-item:only-child::after {width: 0;}#sk-container-id-2 div.sk-dashed-wrapped {border: 1px dashed gray;margin: 0 0.4em 0.5em 0.4em;box-sizing: border-box;padding-bottom: 0.4em;background-color: white;}#sk-container-id-2 div.sk-label label {font-family: monospace;font-weight: bold;display: inline-block;line-height: 1.2em;}#sk-container-id-2 div.sk-label-container {text-align: center;}#sk-container-id-2 div.sk-container {/* jupyter's `normalize.less` sets `[hidden] { display: none; }` but bootstrap.min.css set `[hidden] { display: none !important; }` so we also need the `!important` here to be able to override the default hidden behavior on the sphinx rendered scikit-learn.org. See: https://github.com/scikit-learn/scikit-learn/issues/21755 */display: inline-block !important;position: relative;}#sk-container-id-2 div.sk-text-repr-fallback {display: none;}</style><div id=\"sk-container-id-2\" class=\"sk-top-container\"><div class=\"sk-text-repr-fallback\"><pre>LinearSVC(dual=False)</pre><b>In a Jupyter environment, please rerun this cell to show the HTML representation or trust the notebook. <br />On GitHub, the HTML representation is unable to render, please try loading this page with nbviewer.org.</b></div><div class=\"sk-container\" hidden><div class=\"sk-item\"><div class=\"sk-estimator sk-toggleable\"><input class=\"sk-toggleable__control sk-hidden--visually\" id=\"sk-estimator-id-2\" type=\"checkbox\" checked><label for=\"sk-estimator-id-2\" class=\"sk-toggleable__label sk-toggleable__label-arrow\">LinearSVC</label><div class=\"sk-toggleable__content\"><pre>LinearSVC(dual=False)</pre></div></div></div></div></div>"
      ],
      "text/plain": [
       "LinearSVC(dual=False)"
      ]
     },
     "execution_count": 29,
     "metadata": {},
     "output_type": "execute_result"
    }
   ],
   "source": [
    "# Fit your dataset\n",
    "svc.fit(X_train_std, y_train)"
   ]
  },
  {
   "cell_type": "markdown",
   "id": "ff36d946",
   "metadata": {},
   "source": [
    "### TO DO: Evaluate the Linear Suport Vector Classifier Model"
   ]
  },
  {
   "cell_type": "code",
   "execution_count": 30,
   "id": "5ca21745",
   "metadata": {},
   "outputs": [
    {
     "name": "stdout",
     "output_type": "stream",
     "text": [
      "[1 1 0 0 1 1 0 2 0 0 2 2 2 0 1 0 2 0 1 2 1 0 2 2 0 0 2 1 1 0 2 2 2 0 2 0 0\n",
      " 0 2 2 0 1 0 1 1 1 2 2 1 0 1 1 0 0 1 0 2 2 0 0 0 2 0 0 2 2 0 2 0 2 0 1 0 0\n",
      " 2 1 0 0 2 1 1 0 1 2 2 0 2 2 1 0 0 0 2 2 0 2 0 2 2 2 0 1 0 2 0 2 2 0 1 2 2\n",
      " 2 0 0 0 0 1 0 2 0 1 1 0 0 2 2 2 1 2 0 0 1 0 1 2 0 2 2 2 1 2 2 0 2 2 2 2 2\n",
      " 0 0 0 2 2 0 2 2 2 2 2 0 2 0 0 2 0 2 0 2 1 0 2 2 2 2 0 2 2 0 2 2 0 2 1 1 1\n",
      " 2 0 0 2 2 2 0 0 0 0 2 2 1 1 0 0 0 0 2 2 1 0 0 2 1 0 2 1 0 1 2 0 0 0 2 2 0\n",
      " 2 2 1 0 2 0 0 1 0 0 2 0 2 0 2 0 2 2 0 2 1 1 0 2 0 1 0 2 1 2 2 0 0 0 1 0 2\n",
      " 2 0 1 0 1 0 1 2 2 2 0 0 0 0 0 0 2 0 1 0 1 1 0 2 0 2 2 1 2 2 1 2 0 2 1 1 2\n",
      " 1 0 1 1 0 1 1 1 2 2 0 0 1 0 0 2 1 2 2 2 2 2 2 0 1 0 1 1 0 2 0 1 2 0 2 2 2\n",
      " 0 1 1 0 2 1 0 2 0 1 0 2 1 2 0 1 2 2 0 1 0 0 2 0 0 0 1 0 0 2 2 0 0]\n"
     ]
    }
   ],
   "source": [
    "# create the model's predictions. Name the prediction vector y_pred\n",
    "y_pred = svc.predict(X_test_std)\n",
    "print(y_pred)"
   ]
  },
  {
   "cell_type": "markdown",
   "id": "eab79820",
   "metadata": {},
   "source": [
    "### TO DO: Evaluate the Linear Suport Vector Model's Performance"
   ]
  },
  {
   "cell_type": "code",
   "execution_count": 31,
   "id": "5afaa895",
   "metadata": {},
   "outputs": [
    {
     "name": "stdout",
     "output_type": "stream",
     "text": [
      "Accuracy: 0.9699453551912568\n"
     ]
    }
   ],
   "source": [
    "# Use SciKit Learn's built-in scoring method to evaluate the model's performance accuracy.\n",
    "print('Accuracy: {}'.format(metrics.accuracy_score(y_test,y_pred)))"
   ]
  },
  {
   "cell_type": "markdown",
   "id": "70afe993",
   "metadata": {},
   "source": [
    "### TO DO: Using the Predict Method of the Linear Suport Vector Model"
   ]
  },
  {
   "cell_type": "code",
   "execution_count": 32,
   "id": "d2cd60c1",
   "metadata": {},
   "outputs": [
    {
     "name": "stdout",
     "output_type": "stream",
     "text": [
      "The predicted score is: [1] \n",
      "The true score is:[1]\n"
     ]
    }
   ],
   "source": [
    "# Use SciKit Learn's built-in predict method to test the model's predictive performance for the first row of data in X_test_std\n",
    "pred = svc.predict(X_test_std[:1])\n",
    "print('The predicted score is: {} \\nThe true score is:{}'.format(pred,y_test[:1]))"
   ]
  },
  {
   "cell_type": "markdown",
   "id": "ccf88b60",
   "metadata": {},
   "source": [
    "### TO DO:Print the number of misclassifications using numpy"
   ]
  },
  {
   "cell_type": "code",
   "execution_count": 33,
   "id": "3a1d5f14",
   "metadata": {},
   "outputs": [
    {
     "name": "stdout",
     "output_type": "stream",
     "text": [
      "Number of Missclassifications: 11\n"
     ]
    }
   ],
   "source": [
    "print('Number of Missclassifications: {}'.format((y_pred != y_test).sum()))"
   ]
  },
  {
   "cell_type": "markdown",
   "id": "d4b81110",
   "metadata": {},
   "source": [
    "## Confusion Matrix"
   ]
  },
  {
   "cell_type": "markdown",
   "id": "4efee6d9",
   "metadata": {},
   "source": [
    "### TO DO: Compute the Confusion Matrix for the Linear Suport Vector Model"
   ]
  },
  {
   "cell_type": "code",
   "execution_count": 34,
   "id": "16da0087",
   "metadata": {},
   "outputs": [
    {
     "data": {
      "text/plain": [
       "<function matplotlib.pyplot.show(close=None, block=None)>"
      ]
     },
     "execution_count": 34,
     "metadata": {},
     "output_type": "execute_result"
    },
    {
     "data": {
      "image/png": "[encoded data removed]",
      "text/plain": [
       "<Figure size 640x480 with 2 Axes>"
      ]
     },
     "metadata": {},
     "output_type": "display_data"
    }
   ],
   "source": [
    "# Use SciKit Learn's metrics module to compute the model's confusion matrix\n",
    "from sklearn.metrics import confusion_matrix, ConfusionMatrixDisplay\n",
    "cm = confusion_matrix(y_test, y_pred, labels=svc.classes_)\n",
    "disp = ConfusionMatrixDisplay(confusion_matrix=cm, display_labels=svc.classes_)\n",
    "disp.plot()\n",
    "plt.show"
   ]
  },
  {
   "cell_type": "markdown",
   "id": "da13c7b8",
   "metadata": {},
   "source": [
    "### TO DO: Classification Correctness"
   ]
  },
  {
   "cell_type": "code",
   "execution_count": 35,
   "id": "4675c0d3",
   "metadata": {},
   "outputs": [],
   "source": [
    "# Based on the output of your confusion matrix, what was the total number of correct classifications of Substance 2?\n",
    "\n",
    "# Enter your answer as markdown in the cell below:"
   ]
  },
  {
   "cell_type": "markdown",
   "id": "0ad11997",
   "metadata": {},
   "source": [
    "### 137 instances of class 2 were correctly identified. 4 class 0's were missidentified as class 2's and 7 class 2's were missidentified as class 0's."
   ]
  },
  {
   "cell_type": "markdown",
   "id": "0aab8323",
   "metadata": {},
   "source": [
    "### TO DO: Compute the Classification report for Linear Suport Vector Model"
   ]
  },
  {
   "cell_type": "code",
   "execution_count": 36,
   "id": "7516bf26",
   "metadata": {},
   "outputs": [
    {
     "name": "stdout",
     "output_type": "stream",
     "text": [
      "Classification report for classifier LinearSVC(dual=False) \n",
      "               precision    recall  f1-score   support\n",
      "\n",
      "           0       0.95      0.97      0.96       143\n",
      "           1       1.00      1.00      1.00        79\n",
      "           2       0.97      0.95      0.96       144\n",
      "\n",
      "    accuracy                           0.97       366\n",
      "   macro avg       0.97      0.97      0.97       366\n",
      "weighted avg       0.97      0.97      0.97       366\n",
      "\n",
      "\n"
     ]
    }
   ],
   "source": [
    "# Use SciKit Learn's metrics module to compute the model's classification report.\n",
    "print(\"Classification report for classifier {0} \\n {1:s}\\n\".format(svc,metrics.classification_report(y_test,y_pred,target_names = ['0','1','2'])))"
   ]
  },
  {
   "cell_type": "markdown",
   "id": "ee08240d",
   "metadata": {},
   "source": [
    "### TO DO: Classification Report"
   ]
  },
  {
   "cell_type": "markdown",
   "id": "13c14436",
   "metadata": {},
   "source": [
    "Based on the output of your classification report, out of all the times Substance 1 should have been predicted, what percentage of times was\n",
    "it correctly predicted?\n",
    "\n",
    "Which performance score did you use to evaluate the performance of the model(s) from the confusion matrix /classification report? (HINT: You\n",
    "may need to research the meaning and difference between precision, recall and f1-score)\n",
    "\n",
    "Enter your answer as markdown in the cell below"
   ]
  },
  {
   "cell_type": "markdown",
   "id": "17afff22",
   "metadata": {},
   "source": [
    "### Using the linear support vector, class 1 was correctly predicted 100% of the time. \n",
    "\n",
    "### Since the results were a perfect recall, it doesn't matter which method is used. Precision is 100% because there are no false positives, recall is 100% because there are no false negatives, and the F1 score is a combination of recall and precision, so it is also at 100%. "
   ]
  },
  {
   "cell_type": "markdown",
   "id": "0e8bca5e",
   "metadata": {},
   "source": [
    "## Serialization\n",
    "___"
   ]
  },
  {
   "cell_type": "markdown",
   "id": "05b07985",
   "metadata": {},
   "source": [
    "### TO DO: Model Persistence - Save/Load the trained classifier"
   ]
  },
  {
   "cell_type": "markdown",
   "id": "8a777bcf",
   "metadata": {},
   "source": [
    "To receive full credit for this part you must test the saved and re-loaded classifiers on an instance of “unknown” data and show that it correctly\n",
    "classifies the instance. It’s ok if you use an instance (sample) that is from the test set as the “unknown” data.\n",
    "\n",
    "**NOTE: Use either the Logistic Regression Model or the K-Nearest Neighbors Classifier for this part**"
   ]
  },
  {
   "cell_type": "markdown",
   "id": "79d50305",
   "metadata": {},
   "source": [
    "### Step 1: Save the Model"
   ]
  },
  {
   "cell_type": "code",
   "execution_count": 39,
   "id": "d6099ee2",
   "metadata": {},
   "outputs": [],
   "source": [
    "#assign classifer to serialize\n",
    "saved_classifier = LogisticRegression()\n",
    "saved_classifier.fit(X_train_std, y_train)\n",
    "\n",
    "# Pickle (serialize) and save the trained classifier to a folder\n",
    "import pickle\n",
    "import os\n",
    "\n",
    "dest = os.path.join('classifier', 'pkl_objects')\n",
    "if not os.path.exists(dest):\n",
    "    os.makedirs(dest)\n",
    "    \n",
    "pickle.dump(saved_classifier, open(os.path.join(dest, 'classifier.pkl'),'wb'), protocol=4)"
   ]
  },
  {
   "cell_type": "markdown",
   "id": "1c2a0487",
   "metadata": {},
   "source": [
    "### Step 2: Load the saved model"
   ]
  },
  {
   "cell_type": "code",
   "execution_count": 41,
   "id": "ef2acf1f",
   "metadata": {},
   "outputs": [],
   "source": [
    "# Load the saved the trained classifier into memory\n",
    "os.chdir('classifier')\n",
    "classifier_reloaded = pickle.load(open(os.path.join('pkl_objects','classifier.pkl'),'rb'))"
   ]
  },
  {
   "cell_type": "markdown",
   "id": "c5c8a14a",
   "metadata": {},
   "source": [
    "### Step 3: Test the re-loaded model"
   ]
  },
  {
   "cell_type": "code",
   "execution_count": 43,
   "id": "de6d4000",
   "metadata": {},
   "outputs": [
    {
     "name": "stdout",
     "output_type": "stream",
     "text": [
      "Predicted class label: [0]\n"
     ]
    }
   ],
   "source": [
    "# Use SciKit Learn's built-in predict method to test the re-loaded model on data from the row of data in X_test_std with index equal to six (6)\n",
    "index = 6\n",
    "predicted_class = classifier_reloaded.predict(X_test_std[index].reshape(1, -1))\n",
    "\n",
    "print(\"Predicted class label:\", predicted_class)"
   ]
  },
  {
   "cell_type": "markdown",
   "id": "3fbc0eb2",
   "metadata": {},
   "source": [
    "Give a brief (¼ page) report (in the markdown cell below ) of your analysis detailing your understanding of the analysis, the machine learning\n",
    "models and their comparative performance, statistical insights, etc. (include reference website links if used)"
   ]
  },
  {
   "cell_type": "markdown",
   "id": "08e6794f",
   "metadata": {},
   "source": [
    "### Analyst\n",
    "\n",
    "### Understanding of Analysis\n",
    "\n",
    "### Learning models used & performance\n",
    "\n"
   ]
  },
  {
   "cell_type": "markdown",
   "id": "f9009277",
   "metadata": {},
   "source": [
    "## BONUS (15 pts)"
   ]
  },
  {
   "cell_type": "markdown",
   "id": "d22f7ed3",
   "metadata": {},
   "source": [
    "BONUS (15pts): Comparing the Performance of two Supervised Classification Models\n",
    "\n",
    "<p>Model Performance Comparision of two Classifiers\n",
    "Using the logistic regression model and the KNN model (do NOT re-instantiate and re-train the\n",
    "model. Use the last knn model from your previous section), compare the performasnce of the\n",
    "models using the above statistic when we only have one test set. To do this you need to calculate\n",
    "(and print) in individual notebook cells the following:</p>\n",
    "\n",
    "- $E1$ is the error rate for model , your K-Nearest Neighbor Model\n",
    "- $E2$ is the error rate for model , your Logistic Regression Model\n",
    "- q = $\\dfrac{E1-E2}{2}$  , the error rate average \n",
    "- n1 the number of instances in test set A\n",
    "- n2 the number of instances in test set B\n",
    "\n",
    "Using Python, write a simple decision construct to compute and display $P$ , depending on\n",
    "whether $P \\geq 2$. Use a complete sentence in your output.\n",
    "\n",
    "\n"
   ]
  },
  {
   "cell_type": "code",
   "execution_count": null,
   "id": "0656f5f1",
   "metadata": {},
   "outputs": [],
   "source": []
  }
 ],
 "metadata": {
  "kernelspec": {
   "display_name": "Python 3 (ipykernel)",
   "language": "python",
   "name": "python3"
  },
  "language_info": {
   "codemirror_mode": {
    "name": "ipython",
    "version": 3
   },
   "file_extension": ".py",
   "mimetype": "text/x-python",
   "name": "python",
   "nbconvert_exporter": "python",
   "pygments_lexer": "ipython3",
   "version": "3.11.5"
  }
 },
 "nbformat": 4,
 "nbformat_minor": 5
}
